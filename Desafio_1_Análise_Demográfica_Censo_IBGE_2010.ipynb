{
 "cells": [
  {
   "cell_type": "markdown",
   "metadata": {},
   "source": [
    "## Desafio 1 Proposta de Análise Demográfica SIDRA - IBGE 2010\n",
    "\n",
    "De acordo com o excercício proposto estruturou-se o Dataset com os tópicos solicitados, realizei a divisão em 3 partes:\n",
    "\n",
    "- Parte I: Leitura e Proposição de análises para o banco de dados do IBGE\n",
    "\n",
    "- Parte II: Elaboração de Análise como visão de negócios, tipos de aplicações práticas e eventuais problemas.\n",
    "\n",
    "\n",
    "\n"
   ]
  },
  {
   "cell_type": "markdown",
   "metadata": {},
   "source": [
    "\n",
    "# PARTE I\n",
    "\n",
    "## Lendo e propondo análises para o banco de dados do IBGE"
   ]
  },
  {
   "cell_type": "code",
   "execution_count": 1,
   "metadata": {},
   "outputs": [],
   "source": [
    "# importando as bibliotecas \n",
    "import numpy as np \n",
    "import pandas as pd\n",
    "import matplotlib.pyplot as plt\n",
    "import seaborn as sns\n",
    "plt.style.use('ggplot')"
   ]
  },
  {
   "cell_type": "code",
   "execution_count": 2,
   "metadata": {},
   "outputs": [],
   "source": [
    "df = pd.read_csv(r'../../99 Datasets/demografia_1.csv')"
   ]
  },
  {
   "cell_type": "code",
   "execution_count": 3,
   "metadata": {},
   "outputs": [
    {
     "data": {
      "text/html": [
       "<div>\n",
       "<style scoped>\n",
       "    .dataframe tbody tr th:only-of-type {\n",
       "        vertical-align: middle;\n",
       "    }\n",
       "\n",
       "    .dataframe tbody tr th {\n",
       "        vertical-align: top;\n",
       "    }\n",
       "\n",
       "    .dataframe thead th {\n",
       "        text-align: right;\n",
       "    }\n",
       "</style>\n",
       "<table border=\"1\" class=\"dataframe\">\n",
       "  <thead>\n",
       "    <tr style=\"text-align: right;\">\n",
       "      <th></th>\n",
       "      <th>seq</th>\n",
       "      <th>id</th>\n",
       "      <th>idade</th>\n",
       "      <th>sexo</th>\n",
       "      <th>anos_estudo</th>\n",
       "      <th>cor/raca</th>\n",
       "      <th>salario</th>\n",
       "      <th>estado_civil</th>\n",
       "      <th>regiao</th>\n",
       "    </tr>\n",
       "  </thead>\n",
       "  <tbody>\n",
       "    <tr>\n",
       "      <th>0</th>\n",
       "      <td>0</td>\n",
       "      <td>1.100190e+10</td>\n",
       "      <td>53</td>\n",
       "      <td>homem</td>\n",
       "      <td>5.0</td>\n",
       "      <td>Parda</td>\n",
       "      <td>63600.000000</td>\n",
       "      <td>1.0</td>\n",
       "      <td>norte</td>\n",
       "    </tr>\n",
       "    <tr>\n",
       "      <th>1</th>\n",
       "      <td>1</td>\n",
       "      <td>1.100190e+10</td>\n",
       "      <td>49</td>\n",
       "      <td>mulher</td>\n",
       "      <td>8.0</td>\n",
       "      <td>Amarela</td>\n",
       "      <td>NaN</td>\n",
       "      <td>1.0</td>\n",
       "      <td>norte</td>\n",
       "    </tr>\n",
       "    <tr>\n",
       "      <th>2</th>\n",
       "      <td>2</td>\n",
       "      <td>1.100190e+10</td>\n",
       "      <td>22</td>\n",
       "      <td>mulher</td>\n",
       "      <td>11.0</td>\n",
       "      <td>Indigena</td>\n",
       "      <td>4352.400391</td>\n",
       "      <td>0.0</td>\n",
       "      <td>nordeste</td>\n",
       "    </tr>\n",
       "    <tr>\n",
       "      <th>3</th>\n",
       "      <td>3</td>\n",
       "      <td>1.100190e+10</td>\n",
       "      <td>55</td>\n",
       "      <td>homem</td>\n",
       "      <td>15.0</td>\n",
       "      <td>Amarela</td>\n",
       "      <td>96600.000000</td>\n",
       "      <td>1.0</td>\n",
       "      <td>norte</td>\n",
       "    </tr>\n",
       "    <tr>\n",
       "      <th>4</th>\n",
       "      <td>4</td>\n",
       "      <td>1.100190e+10</td>\n",
       "      <td>56</td>\n",
       "      <td>mulher</td>\n",
       "      <td>15.0</td>\n",
       "      <td>Amarela</td>\n",
       "      <td>157800.000000</td>\n",
       "      <td>1.0</td>\n",
       "      <td>norte</td>\n",
       "    </tr>\n",
       "    <tr>\n",
       "      <th>5</th>\n",
       "      <td>5</td>\n",
       "      <td>1.100190e+10</td>\n",
       "      <td>30</td>\n",
       "      <td>mulher</td>\n",
       "      <td>15.0</td>\n",
       "      <td>Amarela</td>\n",
       "      <td>88550.000000</td>\n",
       "      <td>0.0</td>\n",
       "      <td>nordeste</td>\n",
       "    </tr>\n",
       "    <tr>\n",
       "      <th>6</th>\n",
       "      <td>6</td>\n",
       "      <td>1.100190e+10</td>\n",
       "      <td>52</td>\n",
       "      <td>mulher</td>\n",
       "      <td>5.0</td>\n",
       "      <td>Branca</td>\n",
       "      <td>6734.400391</td>\n",
       "      <td>0.0</td>\n",
       "      <td>norte</td>\n",
       "    </tr>\n",
       "    <tr>\n",
       "      <th>7</th>\n",
       "      <td>7</td>\n",
       "      <td>1.100190e+10</td>\n",
       "      <td>29</td>\n",
       "      <td>homem</td>\n",
       "      <td>5.0</td>\n",
       "      <td>Parda</td>\n",
       "      <td>14875.200684</td>\n",
       "      <td>0.0</td>\n",
       "      <td>norte</td>\n",
       "    </tr>\n",
       "    <tr>\n",
       "      <th>8</th>\n",
       "      <td>8</td>\n",
       "      <td>1.100190e+10</td>\n",
       "      <td>29</td>\n",
       "      <td>mulher</td>\n",
       "      <td>11.0</td>\n",
       "      <td>Parda</td>\n",
       "      <td>6734.400391</td>\n",
       "      <td>0.0</td>\n",
       "      <td>norte</td>\n",
       "    </tr>\n",
       "    <tr>\n",
       "      <th>9</th>\n",
       "      <td>9</td>\n",
       "      <td>1.100191e+10</td>\n",
       "      <td>46</td>\n",
       "      <td>mulher</td>\n",
       "      <td>15.0</td>\n",
       "      <td>Branca</td>\n",
       "      <td>54300.000000</td>\n",
       "      <td>1.0</td>\n",
       "      <td>norte</td>\n",
       "    </tr>\n",
       "  </tbody>\n",
       "</table>\n",
       "</div>"
      ],
      "text/plain": [
       "   seq            id  idade    sexo  anos_estudo  cor/raca        salario  \\\n",
       "0    0  1.100190e+10     53   homem          5.0     Parda   63600.000000   \n",
       "1    1  1.100190e+10     49  mulher          8.0   Amarela            NaN   \n",
       "2    2  1.100190e+10     22  mulher         11.0  Indigena    4352.400391   \n",
       "3    3  1.100190e+10     55   homem         15.0   Amarela   96600.000000   \n",
       "4    4  1.100190e+10     56  mulher         15.0   Amarela  157800.000000   \n",
       "5    5  1.100190e+10     30  mulher         15.0   Amarela   88550.000000   \n",
       "6    6  1.100190e+10     52  mulher          5.0    Branca    6734.400391   \n",
       "7    7  1.100190e+10     29   homem          5.0     Parda   14875.200684   \n",
       "8    8  1.100190e+10     29  mulher         11.0     Parda    6734.400391   \n",
       "9    9  1.100191e+10     46  mulher         15.0    Branca   54300.000000   \n",
       "\n",
       "   estado_civil    regiao  \n",
       "0           1.0     norte  \n",
       "1           1.0     norte  \n",
       "2           0.0  nordeste  \n",
       "3           1.0     norte  \n",
       "4           1.0     norte  \n",
       "5           0.0  nordeste  \n",
       "6           0.0     norte  \n",
       "7           0.0     norte  \n",
       "8           0.0     norte  \n",
       "9           1.0     norte  "
      ]
     },
     "execution_count": 3,
     "metadata": {},
     "output_type": "execute_result"
    }
   ],
   "source": [
    "# imprimindo as cinco primeiras linhas do dataframe\n",
    "df.head(10)"
   ]
  },
  {
   "cell_type": "code",
   "execution_count": 4,
   "metadata": {},
   "outputs": [
    {
     "data": {
      "text/plain": [
       "(66470, 9)"
      ]
     },
     "execution_count": 4,
     "metadata": {},
     "output_type": "execute_result"
    }
   ],
   "source": [
    "# shape \n",
    "df.shape"
   ]
  },
  {
   "cell_type": "code",
   "execution_count": 5,
   "metadata": {},
   "outputs": [
    {
     "data": {
      "text/html": [
       "<div>\n",
       "<style scoped>\n",
       "    .dataframe tbody tr th:only-of-type {\n",
       "        vertical-align: middle;\n",
       "    }\n",
       "\n",
       "    .dataframe tbody tr th {\n",
       "        vertical-align: top;\n",
       "    }\n",
       "\n",
       "    .dataframe thead th {\n",
       "        text-align: right;\n",
       "    }\n",
       "</style>\n",
       "<table border=\"1\" class=\"dataframe\">\n",
       "  <thead>\n",
       "    <tr style=\"text-align: right;\">\n",
       "      <th></th>\n",
       "      <th>seq</th>\n",
       "      <th>id</th>\n",
       "      <th>idade</th>\n",
       "      <th>anos_estudo</th>\n",
       "      <th>salario</th>\n",
       "      <th>estado_civil</th>\n",
       "    </tr>\n",
       "  </thead>\n",
       "  <tbody>\n",
       "    <tr>\n",
       "      <th>count</th>\n",
       "      <td>66470.000000</td>\n",
       "      <td>6.647000e+04</td>\n",
       "      <td>66470.000000</td>\n",
       "      <td>66036.000000</td>\n",
       "      <td>47878.000000</td>\n",
       "      <td>66470.000000</td>\n",
       "    </tr>\n",
       "    <tr>\n",
       "      <th>mean</th>\n",
       "      <td>33234.500000</td>\n",
       "      <td>3.445307e+10</td>\n",
       "      <td>37.634813</td>\n",
       "      <td>8.686065</td>\n",
       "      <td>19706.790323</td>\n",
       "      <td>0.587724</td>\n",
       "    </tr>\n",
       "    <tr>\n",
       "      <th>std</th>\n",
       "      <td>19188.380534</td>\n",
       "      <td>1.292491e+10</td>\n",
       "      <td>11.380158</td>\n",
       "      <td>3.374522</td>\n",
       "      <td>88627.532024</td>\n",
       "      <td>0.492248</td>\n",
       "    </tr>\n",
       "    <tr>\n",
       "      <th>min</th>\n",
       "      <td>0.000000</td>\n",
       "      <td>1.100190e+10</td>\n",
       "      <td>20.000000</td>\n",
       "      <td>5.000000</td>\n",
       "      <td>-1.000000</td>\n",
       "      <td>0.000000</td>\n",
       "    </tr>\n",
       "    <tr>\n",
       "      <th>25%</th>\n",
       "      <td>16617.250000</td>\n",
       "      <td>3.110060e+10</td>\n",
       "      <td>28.000000</td>\n",
       "      <td>5.000000</td>\n",
       "      <td>3780.000000</td>\n",
       "      <td>0.000000</td>\n",
       "    </tr>\n",
       "    <tr>\n",
       "      <th>50%</th>\n",
       "      <td>33234.500000</td>\n",
       "      <td>3.316781e+10</td>\n",
       "      <td>37.000000</td>\n",
       "      <td>8.000000</td>\n",
       "      <td>7113.599609</td>\n",
       "      <td>1.000000</td>\n",
       "    </tr>\n",
       "    <tr>\n",
       "      <th>75%</th>\n",
       "      <td>49851.750000</td>\n",
       "      <td>4.310361e+10</td>\n",
       "      <td>47.000000</td>\n",
       "      <td>11.000000</td>\n",
       "      <td>12720.000000</td>\n",
       "      <td>1.000000</td>\n",
       "    </tr>\n",
       "    <tr>\n",
       "      <th>max</th>\n",
       "      <td>66469.000000</td>\n",
       "      <td>5.311702e+10</td>\n",
       "      <td>60.000000</td>\n",
       "      <td>15.000000</td>\n",
       "      <td>999999.000000</td>\n",
       "      <td>1.000000</td>\n",
       "    </tr>\n",
       "  </tbody>\n",
       "</table>\n",
       "</div>"
      ],
      "text/plain": [
       "                seq            id         idade   anos_estudo        salario  \\\n",
       "count  66470.000000  6.647000e+04  66470.000000  66036.000000   47878.000000   \n",
       "mean   33234.500000  3.445307e+10     37.634813      8.686065   19706.790323   \n",
       "std    19188.380534  1.292491e+10     11.380158      3.374522   88627.532024   \n",
       "min        0.000000  1.100190e+10     20.000000      5.000000      -1.000000   \n",
       "25%    16617.250000  3.110060e+10     28.000000      5.000000    3780.000000   \n",
       "50%    33234.500000  3.316781e+10     37.000000      8.000000    7113.599609   \n",
       "75%    49851.750000  4.310361e+10     47.000000     11.000000   12720.000000   \n",
       "max    66469.000000  5.311702e+10     60.000000     15.000000  999999.000000   \n",
       "\n",
       "       estado_civil  \n",
       "count  66470.000000  \n",
       "mean       0.587724  \n",
       "std        0.492248  \n",
       "min        0.000000  \n",
       "25%        0.000000  \n",
       "50%        1.000000  \n",
       "75%        1.000000  \n",
       "max        1.000000  "
      ]
     },
     "execution_count": 5,
     "metadata": {},
     "output_type": "execute_result"
    }
   ],
   "source": [
    "# resumo dos dados\n",
    "df.describe()"
   ]
  },
  {
   "cell_type": "code",
   "execution_count": 6,
   "metadata": {},
   "outputs": [
    {
     "name": "stdout",
     "output_type": "stream",
     "text": [
      "Desvio padrão:  seq             1.918838e+04\n",
      "id              1.292491e+10\n",
      "idade           1.138016e+01\n",
      "anos_estudo     3.374522e+00\n",
      "salario         8.862753e+04\n",
      "estado_civil    4.922481e-01\n",
      "dtype: float64\n",
      "Variância:  seq             3.681939e+08\n",
      "id              1.670532e+20\n",
      "idade           1.295080e+02\n",
      "anos_estudo     1.138740e+01\n",
      "salario         7.854839e+09\n",
      "estado_civil    2.423082e-01\n",
      "dtype: float64\n"
     ]
    }
   ],
   "source": [
    "# variância é o desvio padrão ao quadrado\n",
    "# desvio padrão é a raiz quadrada da variância\n",
    "std = df.std()\n",
    "var = df.std()**2\n",
    "print('Desvio padrão: ', std)\n",
    "print('Variância: ', var)"
   ]
  },
  {
   "cell_type": "markdown",
   "metadata": {},
   "source": [
    "Um baixo desvio padrão indica que os pontos dos dados tendem a estar próximos da média ou do valor esperado. Um alto desvio padrão indica que os pontos dos dados estão espalhados por uma ampla gama de valores."
   ]
  },
  {
   "cell_type": "markdown",
   "metadata": {},
   "source": [
    "## 2 - Análise básica dos conteúdos de cada coluna com contagem de valores"
   ]
  },
  {
   "cell_type": "code",
   "execution_count": 7,
   "metadata": {},
   "outputs": [
    {
     "name": "stdout",
     "output_type": "stream",
     "text": [
      "['seq', 'id', 'idade', 'sexo', 'anos_estudo', 'cor/raca', 'salario', 'estado_civil', 'regiao']\n",
      "['0', '11001901101.0', '53', 'homem', '5.0', 'Parda', '63600.0', '1.0', 'norte']\n",
      "['1', '11001901102.0', '49', 'mulher', '8.0', 'Amarela', '', '1.0', 'norte']\n",
      "['2', '11001901103.0', '22', 'mulher', '11.0', 'Indigena', '4352.400390625', '0.0', 'nordeste']\n",
      "['3', '11001903101.0', '55', 'homem', '15.0', 'Amarela', '96600.0', '1.0', 'norte']\n",
      "['4', '11001903102.0', '56', 'mulher', '15.0', 'Amarela', '157800.0', '1.0', 'norte']\n",
      "['5', '11001903103.0', '30', 'mulher', '15.0', 'Amarela', '88550.0', '0.0', 'nordeste']\n",
      "['6', '11001904101.0', '52', 'mulher', '5.0', 'Branca', '6734.400390625', '0.0', 'norte']\n",
      "['7', '11001904104.0', '29', 'homem', '5.0', 'Parda', '14875.20068359375', '0.0', 'norte']\n",
      "['8', '11001904105.0', '29', 'mulher', '11.0', 'Parda', '6734.400390625', '0.0', 'norte']\n"
     ]
    }
   ],
   "source": [
    "import csv\n",
    "\n",
    "with open(r'../../99 Datasets/demografia.csv', 'r') as data_csv:\n",
    "    data = csv.reader(data_csv)\n",
    "    \n",
    "    contador = 0\n",
    "    for row in data:\n",
    "        print(row)\n",
    "        contador = contador + 1\n",
    "        \n",
    "#         print(row[2],row[4],row[6])\n",
    "        if contador == 10:\n",
    "            break"
   ]
  },
  {
   "cell_type": "code",
   "execution_count": 8,
   "metadata": {},
   "outputs": [
    {
     "name": "stdout",
     "output_type": "stream",
     "text": [
      "Wall time: 0 ns\n"
     ]
    }
   ],
   "source": [
    "# Separação da leitura do arquivo com dois TRYs diferentes para diferenciação em caso de erro\n",
    "\n",
    "%time\n",
    "\n",
    "lista_com_salarios = []\n",
    "lista_com_idades = list()\n",
    "\n",
    "with open(r'../../99 Datasets/demografia.csv', 'r') as data_csv:\n",
    "    data = csv.reader(data_csv)\n",
    "\n",
    "    for i, line in enumerate(data):\n",
    "        if i>0:\n",
    "            try:\n",
    "                lista_com_idades.append(float(line[2]))\n",
    "            except:\n",
    "                pass\n",
    "            \n",
    "            try:\n",
    "                lista_com_salarios.append(float(line[6]))\n",
    "            except:\n",
    "                pass"
   ]
  },
  {
   "cell_type": "code",
   "execution_count": 9,
   "metadata": {},
   "outputs": [
    {
     "data": {
      "text/plain": [
       "66470"
      ]
     },
     "execution_count": 9,
     "metadata": {},
     "output_type": "execute_result"
    }
   ],
   "source": [
    "len(lista_com_idades)"
   ]
  },
  {
   "cell_type": "code",
   "execution_count": 10,
   "metadata": {},
   "outputs": [
    {
     "data": {
      "text/plain": [
       "47878"
      ]
     },
     "execution_count": 10,
     "metadata": {},
     "output_type": "execute_result"
    }
   ],
   "source": [
    "len(lista_com_salarios)"
   ]
  },
  {
   "cell_type": "code",
   "execution_count": 11,
   "metadata": {},
   "outputs": [
    {
     "data": {
      "text/plain": [
       "0.279705130133895"
      ]
     },
     "execution_count": 11,
     "metadata": {},
     "output_type": "execute_result"
    }
   ],
   "source": [
    "(len(lista_com_idades) - len(lista_com_salarios))/len(lista_com_idades)"
   ]
  },
  {
   "cell_type": "markdown",
   "metadata": {},
   "source": [
    "## Construção da função que calcula a variância e desvio padrão"
   ]
  },
  {
   "cell_type": "code",
   "execution_count": 12,
   "metadata": {},
   "outputs": [],
   "source": [
    "def calcula_variancia_e_desvio(lista_valores):\n",
    "    '''\n",
    "    Escrever o código para calcular a variância\n",
    "    '''\n",
    "    m = sum(lista_valores) / len(lista_valores)\n",
    "    variancia = sum((xi - m) ** 2 for xi in lista_valores) / len(lista_valores)\n",
    "    desvio_padrao = variancia**0.5\n",
    "    \n",
    "    return variancia, desvio_padrao"
   ]
  },
  {
   "cell_type": "code",
   "execution_count": 13,
   "metadata": {},
   "outputs": [],
   "source": [
    "def alternativa(lista):\n",
    "     \n",
    "    m = sum(lista) / len(lista)\n",
    "    variancia = sum((xi-m)**2 for xi in lista)/ len(lista)\n",
    "    desvio_padrao = variancia**0.5\n",
    "    \n",
    "    return variancia, desvio_padrao"
   ]
  },
  {
   "cell_type": "markdown",
   "metadata": {},
   "source": [
    "### Aplicação da função para lista com salários"
   ]
  },
  {
   "cell_type": "code",
   "execution_count": 14,
   "metadata": {},
   "outputs": [
    {
     "data": {
      "text/plain": [
       "(7854675373.202344, 88626.60646330957)"
      ]
     },
     "execution_count": 14,
     "metadata": {},
     "output_type": "execute_result"
    }
   ],
   "source": [
    "calcula_variancia_e_desvio(lista_com_salarios)"
   ]
  },
  {
   "cell_type": "code",
   "execution_count": 15,
   "metadata": {},
   "outputs": [],
   "source": [
    "calcula_salarios = calcula_variancia_e_desvio(lista_com_salarios)"
   ]
  },
  {
   "cell_type": "code",
   "execution_count": 16,
   "metadata": {},
   "outputs": [
    {
     "data": {
      "text/plain": [
       "(7854675373.202344, 88626.60646330957)"
      ]
     },
     "execution_count": 16,
     "metadata": {},
     "output_type": "execute_result"
    }
   ],
   "source": [
    "calcula_salarios"
   ]
  },
  {
   "cell_type": "markdown",
   "metadata": {},
   "source": [
    "### Aplicação da função para a lista com idades utilizando uma variável para os resultados"
   ]
  },
  {
   "cell_type": "code",
   "execution_count": 17,
   "metadata": {},
   "outputs": [],
   "source": [
    "variavel_output = calcula_variancia_e_desvio(lista_com_idades)"
   ]
  },
  {
   "cell_type": "code",
   "execution_count": 18,
   "metadata": {},
   "outputs": [
    {
     "data": {
      "text/plain": [
       "(129.5060545120295, 11.380072693617976)"
      ]
     },
     "execution_count": 18,
     "metadata": {},
     "output_type": "execute_result"
    }
   ],
   "source": [
    "variavel_output"
   ]
  },
  {
   "cell_type": "code",
   "execution_count": 19,
   "metadata": {},
   "outputs": [
    {
     "data": {
      "text/plain": [
       "129.5060545120295"
      ]
     },
     "execution_count": 19,
     "metadata": {},
     "output_type": "execute_result"
    }
   ],
   "source": [
    "variavel_output[0]"
   ]
  },
  {
   "cell_type": "code",
   "execution_count": 20,
   "metadata": {},
   "outputs": [
    {
     "data": {
      "text/plain": [
       "11.380072693617976"
      ]
     },
     "execution_count": 20,
     "metadata": {},
     "output_type": "execute_result"
    }
   ],
   "source": [
    "variavel_output[1]"
   ]
  },
  {
   "cell_type": "code",
   "execution_count": 21,
   "metadata": {},
   "outputs": [
    {
     "name": "stdout",
     "output_type": "stream",
     "text": [
      "O desvio padrão da idade é: 11.380072693617976\n"
     ]
    }
   ],
   "source": [
    "print('O desvio padrão da idade é:',variavel_output[1])"
   ]
  },
  {
   "cell_type": "markdown",
   "metadata": {},
   "source": [
    "### Código otimizado apresentando função alternativa"
   ]
  },
  {
   "cell_type": "code",
   "execution_count": 22,
   "metadata": {},
   "outputs": [],
   "source": [
    "def alternativa(lista):\n",
    "    \n",
    "    m = sum(lista) / len(lista)\n",
    "    variancia = sum((xi - m) ** 2 for xi in lista) / len(lista)\n",
    "    desvio_padrao = variancia**0.5\n",
    "    \n",
    "    return variancia, desvio_padrao"
   ]
  },
  {
   "cell_type": "code",
   "execution_count": 23,
   "metadata": {},
   "outputs": [
    {
     "data": {
      "text/plain": [
       "(7854675373.202344, 88626.60646330957)"
      ]
     },
     "execution_count": 23,
     "metadata": {},
     "output_type": "execute_result"
    }
   ],
   "source": [
    "alternativa(lista_com_salarios)"
   ]
  },
  {
   "cell_type": "code",
   "execution_count": 24,
   "metadata": {},
   "outputs": [
    {
     "data": {
      "text/plain": [
       "(129.5060545120295, 11.380072693617976)"
      ]
     },
     "execution_count": 24,
     "metadata": {},
     "output_type": "execute_result"
    }
   ],
   "source": [
    "alternativa(lista_com_idades)"
   ]
  },
  {
   "cell_type": "markdown",
   "metadata": {},
   "source": [
    "### Plotando o histograma com matplotlib"
   ]
  },
  {
   "cell_type": "code",
   "execution_count": 25,
   "metadata": {},
   "outputs": [],
   "source": [
    "import matplotlib.pyplot as plt"
   ]
  },
  {
   "cell_type": "markdown",
   "metadata": {},
   "source": [
    "## Histograma dos salários"
   ]
  },
  {
   "cell_type": "code",
   "execution_count": 26,
   "metadata": {},
   "outputs": [
    {
     "data": {
      "image/png": "[encoded data removed]",
      "text/plain": [
       "<Figure size 432x288 with 1 Axes>"
      ]
     },
     "metadata": {
      "needs_background": "light"
     },
     "output_type": "display_data"
    }
   ],
   "source": [
    "plt.hist(lista_com_salarios)\n",
    "plt.show()"
   ]
  },
  {
   "cell_type": "code",
   "execution_count": 27,
   "metadata": {},
   "outputs": [
    {
     "data": {
      "image/png": "[encoded data removed]",
      "text/plain": [
       "<Figure size 432x288 with 1 Axes>"
      ]
     },
     "metadata": {
      "needs_background": "light"
     },
     "output_type": "display_data"
    }
   ],
   "source": [
    "# Alterando a quantidade de bins\n",
    "plt.hist(lista_com_salarios, bins=200)\n",
    "plt.show()"
   ]
  },
  {
   "cell_type": "markdown",
   "metadata": {},
   "source": [
    "#### Escolhendo o range de valores\n",
    "\n",
    "O range é o parâmetro que define o intervalo do gistograma e também precisa de parametrização para melhor visualização da variação."
   ]
  },
  {
   "cell_type": "code",
   "execution_count": 28,
   "metadata": {},
   "outputs": [
    {
     "data": {
      "image/png": "[encoded data removed]",
      "text/plain": [
       "<Figure size 432x288 with 1 Axes>"
      ]
     },
     "metadata": {
      "needs_background": "light"
     },
     "output_type": "display_data"
    }
   ],
   "source": [
    "plt.hist(lista_com_salarios, bins=100, range=(-100, 75000))\n",
    "plt.show()"
   ]
  },
  {
   "cell_type": "markdown",
   "metadata": {},
   "source": [
    "## Histograma da lista com idades"
   ]
  },
  {
   "cell_type": "code",
   "execution_count": 29,
   "metadata": {},
   "outputs": [
    {
     "data": {
      "image/png": "[encoded data removed]",
      "text/plain": [
       "<Figure size 432x288 with 1 Axes>"
      ]
     },
     "metadata": {
      "needs_background": "light"
     },
     "output_type": "display_data"
    }
   ],
   "source": [
    "plt.hist(lista_com_idades, bins=50)\n",
    "plt.show()"
   ]
  },
  {
   "cell_type": "code",
   "execution_count": 30,
   "metadata": {},
   "outputs": [
    {
     "data": {
      "image/png": "[encoded data removed]",
      "text/plain": [
       "<Figure size 432x288 with 1 Axes>"
      ]
     },
     "metadata": {
      "needs_background": "light"
     },
     "output_type": "display_data"
    },
    {
     "data": {
      "image/png": "[encoded data removed]",
      "text/plain": [
       "<Figure size 432x288 with 1 Axes>"
      ]
     },
     "metadata": {
      "needs_background": "light"
     },
     "output_type": "display_data"
    }
   ],
   "source": [
    "\n",
    "plt.hist(lista_com_idades, bins=50, range=(15,65))\n",
    "plt.show()\n",
    "\n",
    "\n",
    "plt.hist(lista_com_idades)\n",
    "plt.show()\n"
   ]
  },
  {
   "cell_type": "markdown",
   "metadata": {},
   "source": [
    "### Análise para a variável anos de estudo"
   ]
  },
  {
   "cell_type": "code",
   "execution_count": 31,
   "metadata": {},
   "outputs": [],
   "source": [
    "import csv \n",
    "lista_anos_estudo = []\n",
    "\n",
    "with open(r'../../99 Datasets/demografia.csv', 'r') as data_csv:\n",
    "    data = csv.reader(data_csv)\n",
    "\n",
    "    for i, line in enumerate(data):\n",
    "        if i>0:\n",
    "            try:\n",
    "                lista_anos_estudo.append(float(line[4]))\n",
    "            except:\n",
    "                pass"
   ]
  },
  {
   "cell_type": "code",
   "execution_count": 32,
   "metadata": {},
   "outputs": [
    {
     "data": {
      "text/plain": [
       "(11.38722541001689, 3.3744963194552295)"
      ]
     },
     "execution_count": 32,
     "metadata": {},
     "output_type": "execute_result"
    }
   ],
   "source": [
    "calcula_variancia_e_desvio(lista_anos_estudo)"
   ]
  },
  {
   "cell_type": "code",
   "execution_count": 33,
   "metadata": {},
   "outputs": [
    {
     "data": {
      "image/png": "[encoded data removed]",
      "text/plain": [
       "<Figure size 432x288 with 1 Axes>"
      ]
     },
     "metadata": {
      "needs_background": "light"
     },
     "output_type": "display_data"
    }
   ],
   "source": [
    "plt.hist(lista_anos_estudo, bins = 13, range=(4,16))\n",
    "plt.show()"
   ]
  },
  {
   "cell_type": "markdown",
   "metadata": {},
   "source": [
    "### Analisando a correlação dos dados"
   ]
  },
  {
   "cell_type": "code",
   "execution_count": 34,
   "metadata": {},
   "outputs": [
    {
     "name": "stdout",
     "output_type": "stream",
     "text": [
      "66470 47878\n",
      "\n",
      "\n",
      "[53.0, 49.0, 22.0, 55.0, 56.0]\n",
      "[63600.0, 4352.400390625, 96600.0, 157800.0, 88550.0]\n"
     ]
    }
   ],
   "source": [
    "print(len(lista_com_idades), len(lista_com_salarios))\n",
    "print('\\n')\n",
    "print(lista_com_idades[:5])\n",
    "print(lista_com_salarios[:5])"
   ]
  },
  {
   "cell_type": "markdown",
   "metadata": {},
   "source": [
    "### Lendo e definindo uma lista de valores com idades e anos de estudo\n"
   ]
  },
  {
   "cell_type": "code",
   "execution_count": 35,
   "metadata": {},
   "outputs": [],
   "source": [
    "def corr_metodo_raiz(data):\n",
    "    n = len(data)\n",
    "    sumx = sum(i[0] for i in data)\n",
    "    sumy = sum(i[1] for i in data)\n",
    "    \n",
    "    sumxSq=sum([i[0]**2.0 for i in data])\n",
    "    sumySq=sum([i[1]**2.0 for i in data])\n",
    "    \n",
    "    pSum=sum([i[0]*i[1] for i in data])\n",
    "    \n",
    "    numerador=pSum-(sumx*sumy/n)\n",
    "    denominador=((sumxSq-pow(sumx,2)/n)*(sumySq-pow(sumy,2)/n))**.5\n",
    "    \n",
    "    if denominador==0:\n",
    "        r=0\n",
    "    else:\n",
    "        r=numerador/denominador\n",
    "        \n",
    "    return r"
   ]
  },
  {
   "cell_type": "code",
   "execution_count": 36,
   "metadata": {},
   "outputs": [
    {
     "data": {
      "text/plain": [
       "66036"
      ]
     },
     "execution_count": 36,
     "metadata": {},
     "output_type": "execute_result"
    }
   ],
   "source": [
    "idade_estudo = []\n",
    "\n",
    "with open(r'../../99 Datasets/demografia.csv', 'r') as data_csv:\n",
    "    data = csv.reader(data_csv)\n",
    "    for i, line in enumerate(data):\n",
    "        observação = [] # cria uma lista em branco a cada iteração\n",
    "        if i>0:\n",
    "            try: # para evitar os campos nulos\n",
    "                observação.append(float(line[2]))\n",
    "                observação.append(float(line[4]))\n",
    "                idade_estudo.append(observação)\n",
    "            except:\n",
    "                pass\n",
    "            \n",
    "len(idade_estudo)"
   ]
  },
  {
   "cell_type": "code",
   "execution_count": 37,
   "metadata": {},
   "outputs": [
    {
     "data": {
      "text/plain": [
       "[[53.0, 5.0],\n",
       " [49.0, 8.0],\n",
       " [22.0, 11.0],\n",
       " [55.0, 15.0],\n",
       " [56.0, 15.0],\n",
       " [30.0, 15.0],\n",
       " [52.0, 5.0],\n",
       " [29.0, 5.0],\n",
       " [29.0, 11.0],\n",
       " [46.0, 15.0]]"
      ]
     },
     "execution_count": 37,
     "metadata": {},
     "output_type": "execute_result"
    }
   ],
   "source": [
    "idade_estudo[:10]"
   ]
  },
  {
   "cell_type": "code",
   "execution_count": 38,
   "metadata": {},
   "outputs": [
    {
     "data": {
      "text/plain": [
       "-0.22316633803425154"
      ]
     },
     "execution_count": 38,
     "metadata": {},
     "output_type": "execute_result"
    }
   ],
   "source": [
    "corr_metodo_raiz(idade_estudo)"
   ]
  },
  {
   "cell_type": "code",
   "execution_count": 39,
   "metadata": {},
   "outputs": [],
   "source": [
    "lista_com_idades = []\n",
    "lista_com_estudo = []\n",
    "\n",
    "for row in idade_estudo:\n",
    "    lista_com_idades.append(row[0])\n",
    "    lista_com_estudo.append(row[1])  "
   ]
  },
  {
   "cell_type": "code",
   "execution_count": 40,
   "metadata": {},
   "outputs": [
    {
     "data": {
      "text/plain": [
       "(66036, 66036)"
      ]
     },
     "execution_count": 40,
     "metadata": {},
     "output_type": "execute_result"
    }
   ],
   "source": [
    "len(lista_com_idades),len(lista_com_estudo)"
   ]
  },
  {
   "cell_type": "code",
   "execution_count": 41,
   "metadata": {},
   "outputs": [
    {
     "data": {
      "text/plain": [
       "<matplotlib.collections.PathCollection at 0x17d4004b588>"
      ]
     },
     "execution_count": 41,
     "metadata": {},
     "output_type": "execute_result"
    },
    {
     "data": {
      "image/png": "[encoded data removed]",
      "text/plain": [
       "<Figure size 432x288 with 1 Axes>"
      ]
     },
     "metadata": {
      "needs_background": "light"
     },
     "output_type": "display_data"
    }
   ],
   "source": [
    "plt.scatter(x=lista_com_idades[:1000], y=lista_com_estudo[:1000])"
   ]
  },
  {
   "cell_type": "markdown",
   "metadata": {},
   "source": [
    "## Covariância"
   ]
  },
  {
   "cell_type": "code",
   "execution_count": 42,
   "metadata": {},
   "outputs": [
    {
     "data": {
      "text/plain": [
       "array([[129.62205474,  -8.57393891],\n",
       "       [ -8.57393891,  11.38739785]])"
      ]
     },
     "execution_count": 42,
     "metadata": {},
     "output_type": "execute_result"
    }
   ],
   "source": [
    "from numpy import cov\n",
    "\n",
    "cov(lista_com_idades, lista_com_estudo)"
   ]
  },
  {
   "cell_type": "code",
   "execution_count": 43,
   "metadata": {},
   "outputs": [],
   "source": [
    "def cov_func(a, b):\n",
    "\n",
    "    if len(a) != len(b):\n",
    "        return\n",
    "\n",
    "    a_mean = np.mean(a)\n",
    "    b_mean = np.mean(b)\n",
    "\n",
    "    sum = 0\n",
    "\n",
    "    for i in range(0, len(a)):\n",
    "        sum += ((a[i] - a_mean) * (b[i] - b_mean))\n",
    "\n",
    "    return sum/(len(a)-1)"
   ]
  },
  {
   "cell_type": "code",
   "execution_count": 44,
   "metadata": {},
   "outputs": [
    {
     "data": {
      "text/plain": [
       "-8.573938913702294"
      ]
     },
     "execution_count": 44,
     "metadata": {},
     "output_type": "execute_result"
    }
   ],
   "source": [
    "cov_func(lista_com_idades, lista_com_estudo)"
   ]
  },
  {
   "cell_type": "code",
   "execution_count": 45,
   "metadata": {},
   "outputs": [],
   "source": [
    "import statistics\n",
    "std_idades = statistics.stdev(lista_com_idades)\n",
    "std_estudos = statistics.stdev(lista_com_estudo)"
   ]
  },
  {
   "cell_type": "code",
   "execution_count": 46,
   "metadata": {},
   "outputs": [
    {
     "data": {
      "text/plain": [
       "-0.22316633803425104"
      ]
     },
     "execution_count": 46,
     "metadata": {},
     "output_type": "execute_result"
    }
   ],
   "source": [
    "cov_func(lista_com_idades, lista_com_estudo)/(std_idades*std_estudos)"
   ]
  },
  {
   "cell_type": "markdown",
   "metadata": {},
   "source": [
    "## Momento - Análise Avançada"
   ]
  },
  {
   "cell_type": "markdown",
   "metadata": {},
   "source": [
    "## Calculando a correlação de Spearman por Scipy.Stats"
   ]
  },
  {
   "cell_type": "code",
   "execution_count": 47,
   "metadata": {},
   "outputs": [
    {
     "data": {
      "text/plain": [
       "-0.2420298536078769"
      ]
     },
     "execution_count": 47,
     "metadata": {},
     "output_type": "execute_result"
    }
   ],
   "source": [
    "from scipy.stats import spearmanr\n",
    "spearman = spearmanr(lista_com_idades, lista_com_estudo)\n",
    "spearman[0]"
   ]
  },
  {
   "cell_type": "markdown",
   "metadata": {},
   "source": [
    "## Calculando a correlação de Kendall por Scipy.Stats"
   ]
  },
  {
   "cell_type": "code",
   "execution_count": 48,
   "metadata": {},
   "outputs": [
    {
     "data": {
      "text/plain": [
       "-0.17900231376164755"
      ]
     },
     "execution_count": 48,
     "metadata": {},
     "output_type": "execute_result"
    }
   ],
   "source": [
    "from scipy.stats import kendalltau\n",
    "tau = kendalltau(lista_com_idades, lista_com_estudo)\n",
    "tau[0]"
   ]
  },
  {
   "cell_type": "markdown",
   "metadata": {},
   "source": [
    "# PARTE II\n",
    "\n",
    "Trabalhar a parte analítica com uma visão de negócios, mencionando quais tipos de aplicações práticas este tipo de trabalho se relaciona, e/ou que tipo de problemas este estudo tem a capacidade de cumprir.\n",
    "\n"
   ]
  },
  {
   "cell_type": "markdown",
   "metadata": {},
   "source": [
    "Estudo inicial para alcance de consumidores em determinadas regiões e possível target para consumo de produtos de acordo com o tipo de pele com maior incidência x região para as vendas da Beauty Science Brazil.\n",
    "\n",
    "O objetivo é verificar possíveis oportunidades de investimento em marketing e segmentar inicialmente os esforços em cada região geográfica, analisando o perfil demográfico.\n",
    "\n",
    "Nosso centro de distribuição de produtos precisa estar alinhado com as estratégias de fornecimento x esforço de marketing por região, após a concentração de pedidos em uma série temporal devemos reavaliar onde poderemos aumentar e/ou diminuir os esforços de mídia digital."
   ]
  },
  {
   "cell_type": "markdown",
   "metadata": {},
   "source": [
    "## Análise do Perfil Populacional"
   ]
  },
  {
   "cell_type": "code",
   "execution_count": 49,
   "metadata": {},
   "outputs": [],
   "source": [
    "df = pd.read_csv(r'../../99 Datasets/demografia.csv')"
   ]
  },
  {
   "cell_type": "code",
   "execution_count": 50,
   "metadata": {},
   "outputs": [
    {
     "name": "stdout",
     "output_type": "stream",
     "text": [
      "<class 'pandas.core.frame.DataFrame'>\n",
      "RangeIndex: 66470 entries, 0 to 66469\n",
      "Data columns (total 9 columns):\n",
      "seq             66470 non-null int64\n",
      "id              66470 non-null float64\n",
      "idade           66470 non-null int64\n",
      "sexo            66470 non-null object\n",
      "anos_estudo     66036 non-null float64\n",
      "cor/raca        66228 non-null object\n",
      "salario         47878 non-null float64\n",
      "estado_civil    66470 non-null float64\n",
      "regiao          66470 non-null object\n",
      "dtypes: float64(4), int64(2), object(3)\n",
      "memory usage: 4.6+ MB\n"
     ]
    }
   ],
   "source": [
    "df.info()"
   ]
  },
  {
   "cell_type": "code",
   "execution_count": 51,
   "metadata": {},
   "outputs": [
    {
     "data": {
      "text/html": [
       "<div>\n",
       "<style scoped>\n",
       "    .dataframe tbody tr th:only-of-type {\n",
       "        vertical-align: middle;\n",
       "    }\n",
       "\n",
       "    .dataframe tbody tr th {\n",
       "        vertical-align: top;\n",
       "    }\n",
       "\n",
       "    .dataframe thead th {\n",
       "        text-align: right;\n",
       "    }\n",
       "</style>\n",
       "<table border=\"1\" class=\"dataframe\">\n",
       "  <thead>\n",
       "    <tr style=\"text-align: right;\">\n",
       "      <th></th>\n",
       "      <th>seq</th>\n",
       "      <th>id</th>\n",
       "      <th>idade</th>\n",
       "      <th>anos_estudo</th>\n",
       "      <th>salario</th>\n",
       "      <th>estado_civil</th>\n",
       "    </tr>\n",
       "  </thead>\n",
       "  <tbody>\n",
       "    <tr>\n",
       "      <th>count</th>\n",
       "      <td>66470.000000</td>\n",
       "      <td>6.647000e+04</td>\n",
       "      <td>66470.000000</td>\n",
       "      <td>66036.000000</td>\n",
       "      <td>47878.000000</td>\n",
       "      <td>66470.000000</td>\n",
       "    </tr>\n",
       "    <tr>\n",
       "      <th>mean</th>\n",
       "      <td>33234.500000</td>\n",
       "      <td>3.445307e+10</td>\n",
       "      <td>37.634813</td>\n",
       "      <td>8.686065</td>\n",
       "      <td>19706.790323</td>\n",
       "      <td>0.587724</td>\n",
       "    </tr>\n",
       "    <tr>\n",
       "      <th>std</th>\n",
       "      <td>19188.380534</td>\n",
       "      <td>1.292491e+10</td>\n",
       "      <td>11.380158</td>\n",
       "      <td>3.374522</td>\n",
       "      <td>88627.532024</td>\n",
       "      <td>0.492248</td>\n",
       "    </tr>\n",
       "    <tr>\n",
       "      <th>min</th>\n",
       "      <td>0.000000</td>\n",
       "      <td>1.100190e+10</td>\n",
       "      <td>20.000000</td>\n",
       "      <td>5.000000</td>\n",
       "      <td>-1.000000</td>\n",
       "      <td>0.000000</td>\n",
       "    </tr>\n",
       "    <tr>\n",
       "      <th>25%</th>\n",
       "      <td>16617.250000</td>\n",
       "      <td>3.110060e+10</td>\n",
       "      <td>28.000000</td>\n",
       "      <td>5.000000</td>\n",
       "      <td>3780.000000</td>\n",
       "      <td>0.000000</td>\n",
       "    </tr>\n",
       "    <tr>\n",
       "      <th>50%</th>\n",
       "      <td>33234.500000</td>\n",
       "      <td>3.316781e+10</td>\n",
       "      <td>37.000000</td>\n",
       "      <td>8.000000</td>\n",
       "      <td>7113.599609</td>\n",
       "      <td>1.000000</td>\n",
       "    </tr>\n",
       "    <tr>\n",
       "      <th>75%</th>\n",
       "      <td>49851.750000</td>\n",
       "      <td>4.310361e+10</td>\n",
       "      <td>47.000000</td>\n",
       "      <td>11.000000</td>\n",
       "      <td>12720.000000</td>\n",
       "      <td>1.000000</td>\n",
       "    </tr>\n",
       "    <tr>\n",
       "      <th>max</th>\n",
       "      <td>66469.000000</td>\n",
       "      <td>5.311702e+10</td>\n",
       "      <td>60.000000</td>\n",
       "      <td>15.000000</td>\n",
       "      <td>999999.000000</td>\n",
       "      <td>1.000000</td>\n",
       "    </tr>\n",
       "  </tbody>\n",
       "</table>\n",
       "</div>"
      ],
      "text/plain": [
       "                seq            id         idade   anos_estudo        salario  \\\n",
       "count  66470.000000  6.647000e+04  66470.000000  66036.000000   47878.000000   \n",
       "mean   33234.500000  3.445307e+10     37.634813      8.686065   19706.790323   \n",
       "std    19188.380534  1.292491e+10     11.380158      3.374522   88627.532024   \n",
       "min        0.000000  1.100190e+10     20.000000      5.000000      -1.000000   \n",
       "25%    16617.250000  3.110060e+10     28.000000      5.000000    3780.000000   \n",
       "50%    33234.500000  3.316781e+10     37.000000      8.000000    7113.599609   \n",
       "75%    49851.750000  4.310361e+10     47.000000     11.000000   12720.000000   \n",
       "max    66469.000000  5.311702e+10     60.000000     15.000000  999999.000000   \n",
       "\n",
       "       estado_civil  \n",
       "count  66470.000000  \n",
       "mean       0.587724  \n",
       "std        0.492248  \n",
       "min        0.000000  \n",
       "25%        0.000000  \n",
       "50%        1.000000  \n",
       "75%        1.000000  \n",
       "max        1.000000  "
      ]
     },
     "execution_count": 51,
     "metadata": {},
     "output_type": "execute_result"
    }
   ],
   "source": [
    "# verificamos aqui que a correlação anos de estudo e salário não deve ser considerada em virtude da qualidade dos dados\n",
    "df.describe()"
   ]
  },
  {
   "cell_type": "code",
   "execution_count": 52,
   "metadata": {},
   "outputs": [
    {
     "data": {
      "text/plain": [
       "<matplotlib.axes._subplots.AxesSubplot at 0x17d3fe27978>"
      ]
     },
     "execution_count": 52,
     "metadata": {},
     "output_type": "execute_result"
    },
    {
     "data": {
      "image/png": "[encoded data removed]",
      "text/plain": [
       "<Figure size 432x288 with 1 Axes>"
      ]
     },
     "metadata": {
      "needs_background": "light"
     },
     "output_type": "display_data"
    }
   ],
   "source": [
    "%matplotlib inline \n",
    "\n",
    "df.salario.plot.hist(bins=10)"
   ]
  },
  {
   "cell_type": "code",
   "execution_count": 53,
   "metadata": {},
   "outputs": [
    {
     "data": {
      "text/plain": [
       "<matplotlib.axes._subplots.AxesSubplot at 0x17d3fb215c0>"
      ]
     },
     "execution_count": 53,
     "metadata": {},
     "output_type": "execute_result"
    },
    {
     "data": {
      "image/png": "[encoded data removed]",
      "text/plain": [
       "<Figure size 432x288 with 1 Axes>"
      ]
     },
     "metadata": {
      "needs_background": "light"
     },
     "output_type": "display_data"
    }
   ],
   "source": [
    "# zoom do histograma anterior\n",
    "df.salario.plot.hist(bins=500,range=(0.1, 100000))"
   ]
  },
  {
   "cell_type": "code",
   "execution_count": 54,
   "metadata": {},
   "outputs": [
    {
     "data": {
      "text/plain": [
       "<matplotlib.axes._subplots.AxesSubplot at 0x17d41398f60>"
      ]
     },
     "execution_count": 54,
     "metadata": {},
     "output_type": "execute_result"
    },
    {
     "data": {
      "image/png": "[encoded data removed]",
      "text/plain": [
       "<Figure size 432x288 with 1 Axes>"
      ]
     },
     "metadata": {
      "needs_background": "light"
     },
     "output_type": "display_data"
    }
   ],
   "source": [
    "df.idade.plot.hist()"
   ]
  },
  {
   "cell_type": "code",
   "execution_count": 55,
   "metadata": {},
   "outputs": [
    {
     "data": {
      "text/plain": [
       "<matplotlib.axes._subplots.AxesSubplot at 0x17d4154c8d0>"
      ]
     },
     "execution_count": 55,
     "metadata": {},
     "output_type": "execute_result"
    },
    {
     "data": {
      "image/png": "[encoded data removed]",
      "text/plain": [
       "<Figure size 432x288 with 1 Axes>"
      ]
     },
     "metadata": {
      "needs_background": "light"
     },
     "output_type": "display_data"
    }
   ],
   "source": [
    "df.anos_estudo.plot.hist()"
   ]
  },
  {
   "cell_type": "code",
   "execution_count": 56,
   "metadata": {},
   "outputs": [
    {
     "data": {
      "text/plain": [
       "5.0     23349\n",
       "11.0    16790\n",
       "15.0     5636\n",
       "8.0      5017\n",
       "10.0     2704\n",
       "7.0      2612\n",
       "12.0     2610\n",
       "9.0      2474\n",
       "6.0      2237\n",
       "13.0     1348\n",
       "14.0     1259\n",
       "Name: anos_estudo, dtype: int64"
      ]
     },
     "execution_count": 56,
     "metadata": {},
     "output_type": "execute_result"
    }
   ],
   "source": [
    "df.anos_estudo.value_counts()"
   ]
  },
  {
   "cell_type": "code",
   "execution_count": 57,
   "metadata": {},
   "outputs": [
    {
     "data": {
      "text/plain": [
       "<matplotlib.axes._subplots.AxesSubplot at 0x17d425600f0>"
      ]
     },
     "execution_count": 57,
     "metadata": {},
     "output_type": "execute_result"
    },
    {
     "data": {
      "image/png": "[encoded data removed]",
      "text/plain": [
       "<Figure size 432x288 with 1 Axes>"
      ]
     },
     "metadata": {
      "needs_background": "light"
     },
     "output_type": "display_data"
    }
   ],
   "source": [
    "df.estado_civil.plot.hist()"
   ]
  },
  {
   "cell_type": "code",
   "execution_count": 58,
   "metadata": {},
   "outputs": [
    {
     "data": {
      "text/plain": [
       "<matplotlib.axes._subplots.AxesSubplot at 0x17d425e9d68>"
      ]
     },
     "execution_count": 58,
     "metadata": {},
     "output_type": "execute_result"
    },
    {
     "data": {
      "image/png": "[encoded data removed]",
      "text/plain": [
       "<Figure size 432x288 with 1 Axes>"
      ]
     },
     "metadata": {
      "needs_background": "light"
     },
     "output_type": "display_data"
    }
   ],
   "source": [
    "df.plot.scatter(x='idade',y='salario')"
   ]
  },
  {
   "cell_type": "code",
   "execution_count": 59,
   "metadata": {},
   "outputs": [
    {
     "data": {
      "text/plain": [
       "<matplotlib.axes._subplots.AxesSubplot at 0x17d4264b048>"
      ]
     },
     "execution_count": 59,
     "metadata": {},
     "output_type": "execute_result"
    },
    {
     "data": {
      "image/png": "[encoded data removed]",
      "text/plain": [
       "<Figure size 432x288 with 1 Axes>"
      ]
     },
     "metadata": {
      "needs_background": "light"
     },
     "output_type": "display_data"
    }
   ],
   "source": [
    "df.plot.scatter(x='anos_estudo',y='salario')"
   ]
  },
  {
   "cell_type": "code",
   "execution_count": 60,
   "metadata": {},
   "outputs": [
    {
     "data": {
      "text/plain": [
       "<matplotlib.axes._subplots.AxesSubplot at 0x17d426af470>"
      ]
     },
     "execution_count": 60,
     "metadata": {},
     "output_type": "execute_result"
    },
    {
     "data": {
      "image/png": "[encoded data removed]",
      "text/plain": [
       "<Figure size 432x288 with 1 Axes>"
      ]
     },
     "metadata": {
      "needs_background": "light"
     },
     "output_type": "display_data"
    }
   ],
   "source": [
    "df.plot.scatter(x='estado_civil',y='salario')"
   ]
  },
  {
   "cell_type": "markdown",
   "metadata": {},
   "source": [
    "## 4 - Tratamento dos dados"
   ]
  },
  {
   "cell_type": "code",
   "execution_count": 61,
   "metadata": {},
   "outputs": [
    {
     "data": {
      "text/html": [
       "<div>\n",
       "<style scoped>\n",
       "    .dataframe tbody tr th:only-of-type {\n",
       "        vertical-align: middle;\n",
       "    }\n",
       "\n",
       "    .dataframe tbody tr th {\n",
       "        vertical-align: top;\n",
       "    }\n",
       "\n",
       "    .dataframe thead th {\n",
       "        text-align: right;\n",
       "    }\n",
       "</style>\n",
       "<table border=\"1\" class=\"dataframe\">\n",
       "  <thead>\n",
       "    <tr style=\"text-align: right;\">\n",
       "      <th></th>\n",
       "      <th>seq</th>\n",
       "      <th>id</th>\n",
       "      <th>idade</th>\n",
       "      <th>sexo</th>\n",
       "      <th>anos_estudo</th>\n",
       "      <th>cor/raca</th>\n",
       "      <th>salario</th>\n",
       "      <th>estado_civil</th>\n",
       "      <th>regiao</th>\n",
       "    </tr>\n",
       "  </thead>\n",
       "  <tbody>\n",
       "    <tr>\n",
       "      <th>0</th>\n",
       "      <td>0</td>\n",
       "      <td>1.100190e+10</td>\n",
       "      <td>53</td>\n",
       "      <td>homem</td>\n",
       "      <td>5.0</td>\n",
       "      <td>Parda</td>\n",
       "      <td>63600.000000</td>\n",
       "      <td>1.0</td>\n",
       "      <td>norte</td>\n",
       "    </tr>\n",
       "    <tr>\n",
       "      <th>1</th>\n",
       "      <td>1</td>\n",
       "      <td>1.100190e+10</td>\n",
       "      <td>49</td>\n",
       "      <td>mulher</td>\n",
       "      <td>8.0</td>\n",
       "      <td>Amarela</td>\n",
       "      <td>NaN</td>\n",
       "      <td>1.0</td>\n",
       "      <td>norte</td>\n",
       "    </tr>\n",
       "    <tr>\n",
       "      <th>2</th>\n",
       "      <td>2</td>\n",
       "      <td>1.100190e+10</td>\n",
       "      <td>22</td>\n",
       "      <td>mulher</td>\n",
       "      <td>11.0</td>\n",
       "      <td>Indigena</td>\n",
       "      <td>4352.400391</td>\n",
       "      <td>0.0</td>\n",
       "      <td>nordeste</td>\n",
       "    </tr>\n",
       "    <tr>\n",
       "      <th>3</th>\n",
       "      <td>3</td>\n",
       "      <td>1.100190e+10</td>\n",
       "      <td>55</td>\n",
       "      <td>homem</td>\n",
       "      <td>15.0</td>\n",
       "      <td>Amarela</td>\n",
       "      <td>96600.000000</td>\n",
       "      <td>1.0</td>\n",
       "      <td>norte</td>\n",
       "    </tr>\n",
       "    <tr>\n",
       "      <th>4</th>\n",
       "      <td>4</td>\n",
       "      <td>1.100190e+10</td>\n",
       "      <td>56</td>\n",
       "      <td>mulher</td>\n",
       "      <td>15.0</td>\n",
       "      <td>Amarela</td>\n",
       "      <td>157800.000000</td>\n",
       "      <td>1.0</td>\n",
       "      <td>norte</td>\n",
       "    </tr>\n",
       "  </tbody>\n",
       "</table>\n",
       "</div>"
      ],
      "text/plain": [
       "   seq            id  idade    sexo  anos_estudo  cor/raca        salario  \\\n",
       "0    0  1.100190e+10     53   homem          5.0     Parda   63600.000000   \n",
       "1    1  1.100190e+10     49  mulher          8.0   Amarela            NaN   \n",
       "2    2  1.100190e+10     22  mulher         11.0  Indigena    4352.400391   \n",
       "3    3  1.100190e+10     55   homem         15.0   Amarela   96600.000000   \n",
       "4    4  1.100190e+10     56  mulher         15.0   Amarela  157800.000000   \n",
       "\n",
       "   estado_civil    regiao  \n",
       "0           1.0     norte  \n",
       "1           1.0     norte  \n",
       "2           0.0  nordeste  \n",
       "3           1.0     norte  \n",
       "4           1.0     norte  "
      ]
     },
     "execution_count": 61,
     "metadata": {},
     "output_type": "execute_result"
    }
   ],
   "source": [
    "df.head()"
   ]
  },
  {
   "cell_type": "code",
   "execution_count": 62,
   "metadata": {},
   "outputs": [
    {
     "data": {
      "text/html": [
       "<div>\n",
       "<style scoped>\n",
       "    .dataframe tbody tr th:only-of-type {\n",
       "        vertical-align: middle;\n",
       "    }\n",
       "\n",
       "    .dataframe tbody tr th {\n",
       "        vertical-align: top;\n",
       "    }\n",
       "\n",
       "    .dataframe thead th {\n",
       "        text-align: right;\n",
       "    }\n",
       "</style>\n",
       "<table border=\"1\" class=\"dataframe\">\n",
       "  <thead>\n",
       "    <tr style=\"text-align: right;\">\n",
       "      <th></th>\n",
       "      <th>seq</th>\n",
       "      <th>id</th>\n",
       "      <th>idade</th>\n",
       "      <th>sexo</th>\n",
       "      <th>anos_estudo</th>\n",
       "      <th>cor/raca</th>\n",
       "      <th>salario</th>\n",
       "      <th>estado_civil</th>\n",
       "      <th>regiao</th>\n",
       "    </tr>\n",
       "  </thead>\n",
       "  <tbody>\n",
       "    <tr>\n",
       "      <th>66465</th>\n",
       "      <td>66465</td>\n",
       "      <td>5.311702e+10</td>\n",
       "      <td>34</td>\n",
       "      <td>mulher</td>\n",
       "      <td>5.0</td>\n",
       "      <td>Branca</td>\n",
       "      <td>NaN</td>\n",
       "      <td>1.0</td>\n",
       "      <td>centro-oeste</td>\n",
       "    </tr>\n",
       "    <tr>\n",
       "      <th>66466</th>\n",
       "      <td>66466</td>\n",
       "      <td>5.311702e+10</td>\n",
       "      <td>40</td>\n",
       "      <td>homem</td>\n",
       "      <td>5.0</td>\n",
       "      <td>Parda</td>\n",
       "      <td>2425.000000</td>\n",
       "      <td>1.0</td>\n",
       "      <td>centro-oeste</td>\n",
       "    </tr>\n",
       "    <tr>\n",
       "      <th>66467</th>\n",
       "      <td>66467</td>\n",
       "      <td>5.311702e+10</td>\n",
       "      <td>36</td>\n",
       "      <td>mulher</td>\n",
       "      <td>5.0</td>\n",
       "      <td>Parda</td>\n",
       "      <td>2425.000000</td>\n",
       "      <td>1.0</td>\n",
       "      <td>centro-oeste</td>\n",
       "    </tr>\n",
       "    <tr>\n",
       "      <th>66468</th>\n",
       "      <td>66468</td>\n",
       "      <td>5.311702e+10</td>\n",
       "      <td>27</td>\n",
       "      <td>mulher</td>\n",
       "      <td>5.0</td>\n",
       "      <td>Branca</td>\n",
       "      <td>5524.200195</td>\n",
       "      <td>1.0</td>\n",
       "      <td>centro-oeste</td>\n",
       "    </tr>\n",
       "    <tr>\n",
       "      <th>66469</th>\n",
       "      <td>66469</td>\n",
       "      <td>5.311702e+10</td>\n",
       "      <td>37</td>\n",
       "      <td>homem</td>\n",
       "      <td>5.0</td>\n",
       "      <td>Preta</td>\n",
       "      <td>460.350006</td>\n",
       "      <td>1.0</td>\n",
       "      <td>centro-oeste</td>\n",
       "    </tr>\n",
       "  </tbody>\n",
       "</table>\n",
       "</div>"
      ],
      "text/plain": [
       "         seq            id  idade    sexo  anos_estudo cor/raca      salario  \\\n",
       "66465  66465  5.311702e+10     34  mulher          5.0   Branca          NaN   \n",
       "66466  66466  5.311702e+10     40   homem          5.0    Parda  2425.000000   \n",
       "66467  66467  5.311702e+10     36  mulher          5.0    Parda  2425.000000   \n",
       "66468  66468  5.311702e+10     27  mulher          5.0   Branca  5524.200195   \n",
       "66469  66469  5.311702e+10     37   homem          5.0    Preta   460.350006   \n",
       "\n",
       "       estado_civil        regiao  \n",
       "66465           1.0  centro-oeste  \n",
       "66466           1.0  centro-oeste  \n",
       "66467           1.0  centro-oeste  \n",
       "66468           1.0  centro-oeste  \n",
       "66469           1.0  centro-oeste  "
      ]
     },
     "execution_count": 62,
     "metadata": {},
     "output_type": "execute_result"
    }
   ],
   "source": [
    "df.tail()"
   ]
  },
  {
   "cell_type": "markdown",
   "metadata": {},
   "source": [
    "## Explorando a variável salário\n",
    "\n",
    "Em nossa análise vamos identificar o salário médio da população em geral pois será importante uma visão inicial do poder aquisitivo sobretudo para o público feminino."
   ]
  },
  {
   "cell_type": "code",
   "execution_count": 63,
   "metadata": {},
   "outputs": [
    {
     "data": {
      "text/plain": [
       " NaN         18592\n",
       " 0.0          1841\n",
       "-1.0          1101\n",
       " 999999.0      367\n",
       " 5229.0        277\n",
       " 7200.0        260\n",
       " 7560.0        244\n",
       "Name: salario, dtype: int64"
      ]
     },
     "execution_count": 63,
     "metadata": {},
     "output_type": "execute_result"
    }
   ],
   "source": [
    "df['salario'].value_counts(dropna=False).nlargest(7)## Explorando a variável 'salario'\n"
   ]
  },
  {
   "cell_type": "code",
   "execution_count": 64,
   "metadata": {},
   "outputs": [
    {
     "data": {
      "text/plain": [
       "<matplotlib.axes._subplots.AxesSubplot at 0x17d426f34a8>"
      ]
     },
     "execution_count": 64,
     "metadata": {},
     "output_type": "execute_result"
    },
    {
     "data": {
      "image/png": "[encoded data removed]",
      "text/plain": [
       "<Figure size 432x288 with 1 Axes>"
      ]
     },
     "metadata": {
      "needs_background": "light"
     },
     "output_type": "display_data"
    }
   ],
   "source": [
    "df['salario'].plot.hist(bins=500, xlim=(-10000, 100000))"
   ]
  },
  {
   "cell_type": "code",
   "execution_count": 65,
   "metadata": {},
   "outputs": [
    {
     "data": {
      "text/plain": [
       "<matplotlib.axes._subplots.AxesSubplot at 0x17d42bd8860>"
      ]
     },
     "execution_count": 65,
     "metadata": {},
     "output_type": "execute_result"
    },
    {
     "data": {
      "image/png": "[encoded data removed]",
      "text/plain": [
       "<Figure size 432x288 with 1 Axes>"
      ]
     },
     "metadata": {
      "needs_background": "light"
     },
     "output_type": "display_data"
    }
   ],
   "source": [
    "df['salario'].plot.hist(bins=500, xlim=(-10000, 100000))"
   ]
  },
  {
   "cell_type": "code",
   "execution_count": 66,
   "metadata": {},
   "outputs": [
    {
     "data": {
      "text/plain": [
       "18592"
      ]
     },
     "execution_count": 66,
     "metadata": {},
     "output_type": "execute_result"
    }
   ],
   "source": [
    "# total de nulos na variável salário\n",
    "df['salario'].isnull().sum()"
   ]
  },
  {
   "cell_type": "code",
   "execution_count": 67,
   "metadata": {},
   "outputs": [
    {
     "data": {
      "text/plain": [
       "66470"
      ]
     },
     "execution_count": 67,
     "metadata": {},
     "output_type": "execute_result"
    }
   ],
   "source": [
    "len(df['salario'])"
   ]
  },
  {
   "cell_type": "code",
   "execution_count": 68,
   "metadata": {},
   "outputs": [
    {
     "data": {
      "text/plain": [
       "27.971"
      ]
     },
     "execution_count": 68,
     "metadata": {},
     "output_type": "execute_result"
    }
   ],
   "source": [
    "# Porcentagem de valores nulos para a variável salário\n",
    "\n",
    "round(df['salario'].isnull().sum() / len(df['salario']) * 100, 3)"
   ]
  },
  {
   "cell_type": "markdown",
   "metadata": {},
   "source": [
    "Podemos perceber que a quantidade de valores nulos é grande (18592 em 66470 -> 28%). Como boas práticas, vamos preencher os nulos com a média, o que deve centralizar a amostra, e observar a evolução da sua distribuição no histograma."
   ]
  },
  {
   "cell_type": "code",
   "execution_count": 69,
   "metadata": {},
   "outputs": [
    {
     "data": {
      "text/plain": [
       "seq             3.323450e+04\n",
       "id              3.445307e+10\n",
       "idade           3.763481e+01\n",
       "anos_estudo     8.686065e+00\n",
       "salario         1.970679e+04\n",
       "estado_civil    5.877238e-01\n",
       "dtype: float64"
      ]
     },
     "execution_count": 69,
     "metadata": {},
     "output_type": "execute_result"
    }
   ],
   "source": [
    "df.mean()"
   ]
  },
  {
   "cell_type": "code",
   "execution_count": 70,
   "metadata": {},
   "outputs": [
    {
     "data": {
      "text/plain": [
       "14194.699971495718"
      ]
     },
     "execution_count": 70,
     "metadata": {},
     "output_type": "execute_result"
    }
   ],
   "source": [
    "df['salario'].sum()/len(df['salario'])"
   ]
  },
  {
   "cell_type": "code",
   "execution_count": 71,
   "metadata": {},
   "outputs": [
    {
     "data": {
      "text/plain": [
       "19706.790323432902"
      ]
     },
     "execution_count": 71,
     "metadata": {},
     "output_type": "execute_result"
    }
   ],
   "source": [
    "#desconsiderando \n",
    "df['salario'].mean()"
   ]
  },
  {
   "cell_type": "code",
   "execution_count": 72,
   "metadata": {},
   "outputs": [],
   "source": [
    "# fillna preenche nulos com a media\n",
    "df['salario'].fillna(df['salario'].mean(),inplace=True)"
   ]
  },
  {
   "cell_type": "code",
   "execution_count": 73,
   "metadata": {},
   "outputs": [
    {
     "data": {
      "text/plain": [
       " 19706.790323     18592\n",
       " 0.000000          1841\n",
       "-1.000000          1101\n",
       " 999999.000000      367\n",
       " 5229.000000        277\n",
       " 7200.000000        260\n",
       " 7560.000000        244\n",
       "Name: salario, dtype: int64"
      ]
     },
     "execution_count": 73,
     "metadata": {},
     "output_type": "execute_result"
    }
   ],
   "source": [
    "# dropna eliminando os nulos em salário\n",
    "df['salario'].value_counts(dropna=False).nlargest(7)"
   ]
  },
  {
   "cell_type": "code",
   "execution_count": 74,
   "metadata": {},
   "outputs": [
    {
     "data": {
      "text/plain": [
       "<matplotlib.axes._subplots.AxesSubplot at 0x17d4306e208>"
      ]
     },
     "execution_count": 74,
     "metadata": {},
     "output_type": "execute_result"
    },
    {
     "data": {
      "image/png": "[encoded data removed]",
      "text/plain": [
       "<Figure size 432x288 with 1 Axes>"
      ]
     },
     "metadata": {
      "needs_background": "light"
     },
     "output_type": "display_data"
    }
   ],
   "source": [
    "df['salario'].plot.hist(bins=500, xlim=(-10000, 100000))"
   ]
  },
  {
   "cell_type": "markdown",
   "metadata": {},
   "source": [
    "Para continuar tratando dos dados da variável salário, precisamos eliminar os valores extremos (outliers), que estão enviesando a amostra. Vamos utilizar uma máscara para tentar preservar a aleatoriedade."
   ]
  },
  {
   "cell_type": "code",
   "execution_count": 75,
   "metadata": {},
   "outputs": [],
   "source": [
    "mascara_valores_extremos = (df['salario']>=0) & (df['salario']< 999999)"
   ]
  },
  {
   "cell_type": "code",
   "execution_count": 76,
   "metadata": {},
   "outputs": [
    {
     "data": {
      "text/html": [
       "<div>\n",
       "<style scoped>\n",
       "    .dataframe tbody tr th:only-of-type {\n",
       "        vertical-align: middle;\n",
       "    }\n",
       "\n",
       "    .dataframe tbody tr th {\n",
       "        vertical-align: top;\n",
       "    }\n",
       "\n",
       "    .dataframe thead th {\n",
       "        text-align: right;\n",
       "    }\n",
       "</style>\n",
       "<table border=\"1\" class=\"dataframe\">\n",
       "  <thead>\n",
       "    <tr style=\"text-align: right;\">\n",
       "      <th></th>\n",
       "      <th>salario</th>\n",
       "    </tr>\n",
       "  </thead>\n",
       "  <tbody>\n",
       "    <tr>\n",
       "      <th>0</th>\n",
       "      <td>True</td>\n",
       "    </tr>\n",
       "    <tr>\n",
       "      <th>1</th>\n",
       "      <td>True</td>\n",
       "    </tr>\n",
       "    <tr>\n",
       "      <th>2</th>\n",
       "      <td>True</td>\n",
       "    </tr>\n",
       "    <tr>\n",
       "      <th>3</th>\n",
       "      <td>True</td>\n",
       "    </tr>\n",
       "    <tr>\n",
       "      <th>4</th>\n",
       "      <td>True</td>\n",
       "    </tr>\n",
       "    <tr>\n",
       "      <th>5</th>\n",
       "      <td>True</td>\n",
       "    </tr>\n",
       "    <tr>\n",
       "      <th>6</th>\n",
       "      <td>True</td>\n",
       "    </tr>\n",
       "    <tr>\n",
       "      <th>7</th>\n",
       "      <td>True</td>\n",
       "    </tr>\n",
       "    <tr>\n",
       "      <th>8</th>\n",
       "      <td>True</td>\n",
       "    </tr>\n",
       "    <tr>\n",
       "      <th>9</th>\n",
       "      <td>True</td>\n",
       "    </tr>\n",
       "    <tr>\n",
       "      <th>10</th>\n",
       "      <td>True</td>\n",
       "    </tr>\n",
       "    <tr>\n",
       "      <th>11</th>\n",
       "      <td>True</td>\n",
       "    </tr>\n",
       "    <tr>\n",
       "      <th>12</th>\n",
       "      <td>True</td>\n",
       "    </tr>\n",
       "    <tr>\n",
       "      <th>13</th>\n",
       "      <td>True</td>\n",
       "    </tr>\n",
       "    <tr>\n",
       "      <th>14</th>\n",
       "      <td>True</td>\n",
       "    </tr>\n",
       "    <tr>\n",
       "      <th>15</th>\n",
       "      <td>True</td>\n",
       "    </tr>\n",
       "    <tr>\n",
       "      <th>16</th>\n",
       "      <td>True</td>\n",
       "    </tr>\n",
       "    <tr>\n",
       "      <th>17</th>\n",
       "      <td>True</td>\n",
       "    </tr>\n",
       "    <tr>\n",
       "      <th>18</th>\n",
       "      <td>True</td>\n",
       "    </tr>\n",
       "    <tr>\n",
       "      <th>19</th>\n",
       "      <td>True</td>\n",
       "    </tr>\n",
       "    <tr>\n",
       "      <th>20</th>\n",
       "      <td>True</td>\n",
       "    </tr>\n",
       "    <tr>\n",
       "      <th>21</th>\n",
       "      <td>True</td>\n",
       "    </tr>\n",
       "    <tr>\n",
       "      <th>22</th>\n",
       "      <td>True</td>\n",
       "    </tr>\n",
       "    <tr>\n",
       "      <th>23</th>\n",
       "      <td>True</td>\n",
       "    </tr>\n",
       "    <tr>\n",
       "      <th>24</th>\n",
       "      <td>True</td>\n",
       "    </tr>\n",
       "    <tr>\n",
       "      <th>25</th>\n",
       "      <td>True</td>\n",
       "    </tr>\n",
       "    <tr>\n",
       "      <th>26</th>\n",
       "      <td>True</td>\n",
       "    </tr>\n",
       "    <tr>\n",
       "      <th>27</th>\n",
       "      <td>True</td>\n",
       "    </tr>\n",
       "    <tr>\n",
       "      <th>28</th>\n",
       "      <td>True</td>\n",
       "    </tr>\n",
       "    <tr>\n",
       "      <th>29</th>\n",
       "      <td>True</td>\n",
       "    </tr>\n",
       "    <tr>\n",
       "      <th>...</th>\n",
       "      <td>...</td>\n",
       "    </tr>\n",
       "    <tr>\n",
       "      <th>66440</th>\n",
       "      <td>True</td>\n",
       "    </tr>\n",
       "    <tr>\n",
       "      <th>66441</th>\n",
       "      <td>True</td>\n",
       "    </tr>\n",
       "    <tr>\n",
       "      <th>66442</th>\n",
       "      <td>True</td>\n",
       "    </tr>\n",
       "    <tr>\n",
       "      <th>66443</th>\n",
       "      <td>True</td>\n",
       "    </tr>\n",
       "    <tr>\n",
       "      <th>66444</th>\n",
       "      <td>True</td>\n",
       "    </tr>\n",
       "    <tr>\n",
       "      <th>66445</th>\n",
       "      <td>True</td>\n",
       "    </tr>\n",
       "    <tr>\n",
       "      <th>66446</th>\n",
       "      <td>True</td>\n",
       "    </tr>\n",
       "    <tr>\n",
       "      <th>66447</th>\n",
       "      <td>True</td>\n",
       "    </tr>\n",
       "    <tr>\n",
       "      <th>66448</th>\n",
       "      <td>True</td>\n",
       "    </tr>\n",
       "    <tr>\n",
       "      <th>66449</th>\n",
       "      <td>True</td>\n",
       "    </tr>\n",
       "    <tr>\n",
       "      <th>66450</th>\n",
       "      <td>True</td>\n",
       "    </tr>\n",
       "    <tr>\n",
       "      <th>66451</th>\n",
       "      <td>True</td>\n",
       "    </tr>\n",
       "    <tr>\n",
       "      <th>66452</th>\n",
       "      <td>True</td>\n",
       "    </tr>\n",
       "    <tr>\n",
       "      <th>66453</th>\n",
       "      <td>True</td>\n",
       "    </tr>\n",
       "    <tr>\n",
       "      <th>66454</th>\n",
       "      <td>True</td>\n",
       "    </tr>\n",
       "    <tr>\n",
       "      <th>66455</th>\n",
       "      <td>True</td>\n",
       "    </tr>\n",
       "    <tr>\n",
       "      <th>66456</th>\n",
       "      <td>True</td>\n",
       "    </tr>\n",
       "    <tr>\n",
       "      <th>66457</th>\n",
       "      <td>True</td>\n",
       "    </tr>\n",
       "    <tr>\n",
       "      <th>66458</th>\n",
       "      <td>True</td>\n",
       "    </tr>\n",
       "    <tr>\n",
       "      <th>66459</th>\n",
       "      <td>True</td>\n",
       "    </tr>\n",
       "    <tr>\n",
       "      <th>66460</th>\n",
       "      <td>True</td>\n",
       "    </tr>\n",
       "    <tr>\n",
       "      <th>66461</th>\n",
       "      <td>True</td>\n",
       "    </tr>\n",
       "    <tr>\n",
       "      <th>66462</th>\n",
       "      <td>True</td>\n",
       "    </tr>\n",
       "    <tr>\n",
       "      <th>66463</th>\n",
       "      <td>True</td>\n",
       "    </tr>\n",
       "    <tr>\n",
       "      <th>66464</th>\n",
       "      <td>True</td>\n",
       "    </tr>\n",
       "    <tr>\n",
       "      <th>66465</th>\n",
       "      <td>True</td>\n",
       "    </tr>\n",
       "    <tr>\n",
       "      <th>66466</th>\n",
       "      <td>True</td>\n",
       "    </tr>\n",
       "    <tr>\n",
       "      <th>66467</th>\n",
       "      <td>True</td>\n",
       "    </tr>\n",
       "    <tr>\n",
       "      <th>66468</th>\n",
       "      <td>True</td>\n",
       "    </tr>\n",
       "    <tr>\n",
       "      <th>66469</th>\n",
       "      <td>True</td>\n",
       "    </tr>\n",
       "  </tbody>\n",
       "</table>\n",
       "<p>66470 rows × 1 columns</p>\n",
       "</div>"
      ],
      "text/plain": [
       "       salario\n",
       "0         True\n",
       "1         True\n",
       "2         True\n",
       "3         True\n",
       "4         True\n",
       "5         True\n",
       "6         True\n",
       "7         True\n",
       "8         True\n",
       "9         True\n",
       "10        True\n",
       "11        True\n",
       "12        True\n",
       "13        True\n",
       "14        True\n",
       "15        True\n",
       "16        True\n",
       "17        True\n",
       "18        True\n",
       "19        True\n",
       "20        True\n",
       "21        True\n",
       "22        True\n",
       "23        True\n",
       "24        True\n",
       "25        True\n",
       "26        True\n",
       "27        True\n",
       "28        True\n",
       "29        True\n",
       "...        ...\n",
       "66440     True\n",
       "66441     True\n",
       "66442     True\n",
       "66443     True\n",
       "66444     True\n",
       "66445     True\n",
       "66446     True\n",
       "66447     True\n",
       "66448     True\n",
       "66449     True\n",
       "66450     True\n",
       "66451     True\n",
       "66452     True\n",
       "66453     True\n",
       "66454     True\n",
       "66455     True\n",
       "66456     True\n",
       "66457     True\n",
       "66458     True\n",
       "66459     True\n",
       "66460     True\n",
       "66461     True\n",
       "66462     True\n",
       "66463     True\n",
       "66464     True\n",
       "66465     True\n",
       "66466     True\n",
       "66467     True\n",
       "66468     True\n",
       "66469     True\n",
       "\n",
       "[66470 rows x 1 columns]"
      ]
     },
     "execution_count": 76,
     "metadata": {},
     "output_type": "execute_result"
    }
   ],
   "source": [
    "pd.DataFrame(mascara_valores_extremos)"
   ]
  },
  {
   "cell_type": "code",
   "execution_count": 77,
   "metadata": {},
   "outputs": [
    {
     "data": {
      "text/plain": [
       "97.79148488039718"
      ]
     },
     "execution_count": 77,
     "metadata": {},
     "output_type": "execute_result"
    }
   ],
   "source": [
    "# Calculando a porcentagem dos dados que foi preservada\n",
    "\n",
    "(mascara_valores_extremos.sum()/df.shape[0])*100"
   ]
  },
  {
   "cell_type": "code",
   "execution_count": 78,
   "metadata": {},
   "outputs": [
    {
     "data": {
      "text/plain": [
       "<matplotlib.axes._subplots.AxesSubplot at 0x17d434bbbe0>"
      ]
     },
     "execution_count": 78,
     "metadata": {},
     "output_type": "execute_result"
    },
    {
     "data": {
      "image/png": "[encoded data removed]",
      "text/plain": [
       "<Figure size 432x288 with 1 Axes>"
      ]
     },
     "metadata": {
      "needs_background": "light"
     },
     "output_type": "display_data"
    }
   ],
   "source": [
    "df['salario'][mascara_valores_extremos].plot.hist(bins=50, range=(0,100000))"
   ]
  },
  {
   "cell_type": "markdown",
   "metadata": {},
   "source": [
    "### Sobrescrevendo os dados da variável salário\n"
   ]
  },
  {
   "cell_type": "code",
   "execution_count": 79,
   "metadata": {},
   "outputs": [
    {
     "data": {
      "text/plain": [
       "19706.790323    18592\n",
       "0.000000         1841\n",
       "5229.000000       277\n",
       "7200.000000       260\n",
       "7560.000000       244\n",
       "6000.000000       231\n",
       "9600.000000       221\n",
       "Name: salario, dtype: int64"
      ]
     },
     "execution_count": 79,
     "metadata": {},
     "output_type": "execute_result"
    }
   ],
   "source": [
    "df['salario'][mascara_valores_extremos].value_counts().nlargest(7)"
   ]
  },
  {
   "cell_type": "code",
   "execution_count": 80,
   "metadata": {},
   "outputs": [
    {
     "data": {
      "text/plain": [
       " 19706.790323     18592\n",
       " 0.000000          1841\n",
       "-1.000000          1101\n",
       " 999999.000000      367\n",
       " 5229.000000        277\n",
       " 7200.000000        260\n",
       " 7560.000000        244\n",
       "Name: salario, dtype: int64"
      ]
     },
     "execution_count": 80,
     "metadata": {},
     "output_type": "execute_result"
    }
   ],
   "source": [
    "df['salario'].value_counts().nlargest(7)"
   ]
  },
  {
   "cell_type": "code",
   "execution_count": 81,
   "metadata": {},
   "outputs": [],
   "source": [
    "df['salario'] = df['salario'][mascara_valores_extremos]"
   ]
  },
  {
   "cell_type": "code",
   "execution_count": 82,
   "metadata": {},
   "outputs": [
    {
     "data": {
      "text/plain": [
       "19706.790323    18592\n",
       "0.000000         1841\n",
       "5229.000000       277\n",
       "7200.000000       260\n",
       "7560.000000       244\n",
       "Name: salario, dtype: int64"
      ]
     },
     "execution_count": 82,
     "metadata": {},
     "output_type": "execute_result"
    }
   ],
   "source": [
    "df['salario'].value_counts().head()"
   ]
  },
  {
   "cell_type": "code",
   "execution_count": 83,
   "metadata": {},
   "outputs": [
    {
     "name": "stdout",
     "output_type": "stream",
     "text": [
      "<class 'pandas.core.frame.DataFrame'>\n",
      "RangeIndex: 66470 entries, 0 to 66469\n",
      "Data columns (total 9 columns):\n",
      "seq             66470 non-null int64\n",
      "id              66470 non-null float64\n",
      "idade           66470 non-null int64\n",
      "sexo            66470 non-null object\n",
      "anos_estudo     66036 non-null float64\n",
      "cor/raca        66228 non-null object\n",
      "salario         65002 non-null float64\n",
      "estado_civil    66470 non-null float64\n",
      "regiao          66470 non-null object\n",
      "dtypes: float64(4), int64(2), object(3)\n",
      "memory usage: 4.6+ MB\n"
     ]
    }
   ],
   "source": [
    "df.info()"
   ]
  },
  {
   "cell_type": "code",
   "execution_count": 84,
   "metadata": {},
   "outputs": [
    {
     "data": {
      "text/plain": [
       "(66470, 9)"
      ]
     },
     "execution_count": 84,
     "metadata": {},
     "output_type": "execute_result"
    }
   ],
   "source": [
    "df.shape"
   ]
  },
  {
   "cell_type": "code",
   "execution_count": 85,
   "metadata": {},
   "outputs": [
    {
     "data": {
      "text/plain": [
       "-1468"
      ]
     },
     "execution_count": 85,
     "metadata": {},
     "output_type": "execute_result"
    }
   ],
   "source": [
    "65002 - 66470 "
   ]
  },
  {
   "cell_type": "code",
   "execution_count": 86,
   "metadata": {},
   "outputs": [
    {
     "data": {
      "text/plain": [
       "63534"
      ]
     },
     "execution_count": 86,
     "metadata": {},
     "output_type": "execute_result"
    }
   ],
   "source": [
    "65002 -1468"
   ]
  },
  {
   "cell_type": "code",
   "execution_count": 87,
   "metadata": {},
   "outputs": [
    {
     "data": {
      "text/plain": [
       "1468"
      ]
     },
     "execution_count": 87,
     "metadata": {},
     "output_type": "execute_result"
    }
   ],
   "source": [
    "df['salario'].isnull().sum()"
   ]
  },
  {
   "cell_type": "code",
   "execution_count": 88,
   "metadata": {},
   "outputs": [],
   "source": [
    "df['salario'].fillna(df['salario'].mean(),inplace=True)"
   ]
  },
  {
   "cell_type": "code",
   "execution_count": 89,
   "metadata": {},
   "outputs": [
    {
     "name": "stdout",
     "output_type": "stream",
     "text": [
      "<class 'pandas.core.frame.DataFrame'>\n",
      "RangeIndex: 66470 entries, 0 to 66469\n",
      "Data columns (total 9 columns):\n",
      "seq             66470 non-null int64\n",
      "id              66470 non-null float64\n",
      "idade           66470 non-null int64\n",
      "sexo            66470 non-null object\n",
      "anos_estudo     66036 non-null float64\n",
      "cor/raca        66228 non-null object\n",
      "salario         66470 non-null float64\n",
      "estado_civil    66470 non-null float64\n",
      "regiao          66470 non-null object\n",
      "dtypes: float64(4), int64(2), object(3)\n",
      "memory usage: 4.6+ MB\n"
     ]
    }
   ],
   "source": [
    "df.info()"
   ]
  },
  {
   "cell_type": "code",
   "execution_count": 90,
   "metadata": {},
   "outputs": [
    {
     "data": {
      "text/html": [
       "<div>\n",
       "<style scoped>\n",
       "    .dataframe tbody tr th:only-of-type {\n",
       "        vertical-align: middle;\n",
       "    }\n",
       "\n",
       "    .dataframe tbody tr th {\n",
       "        vertical-align: top;\n",
       "    }\n",
       "\n",
       "    .dataframe thead th {\n",
       "        text-align: right;\n",
       "    }\n",
       "</style>\n",
       "<table border=\"1\" class=\"dataframe\">\n",
       "  <thead>\n",
       "    <tr style=\"text-align: right;\">\n",
       "      <th></th>\n",
       "      <th>salario</th>\n",
       "    </tr>\n",
       "  </thead>\n",
       "  <tbody>\n",
       "    <tr>\n",
       "      <th>0</th>\n",
       "      <td>True</td>\n",
       "    </tr>\n",
       "    <tr>\n",
       "      <th>1</th>\n",
       "      <td>True</td>\n",
       "    </tr>\n",
       "    <tr>\n",
       "      <th>2</th>\n",
       "      <td>True</td>\n",
       "    </tr>\n",
       "    <tr>\n",
       "      <th>3</th>\n",
       "      <td>True</td>\n",
       "    </tr>\n",
       "    <tr>\n",
       "      <th>4</th>\n",
       "      <td>True</td>\n",
       "    </tr>\n",
       "    <tr>\n",
       "      <th>5</th>\n",
       "      <td>True</td>\n",
       "    </tr>\n",
       "    <tr>\n",
       "      <th>6</th>\n",
       "      <td>True</td>\n",
       "    </tr>\n",
       "    <tr>\n",
       "      <th>7</th>\n",
       "      <td>True</td>\n",
       "    </tr>\n",
       "    <tr>\n",
       "      <th>8</th>\n",
       "      <td>True</td>\n",
       "    </tr>\n",
       "    <tr>\n",
       "      <th>9</th>\n",
       "      <td>True</td>\n",
       "    </tr>\n",
       "    <tr>\n",
       "      <th>10</th>\n",
       "      <td>True</td>\n",
       "    </tr>\n",
       "    <tr>\n",
       "      <th>11</th>\n",
       "      <td>True</td>\n",
       "    </tr>\n",
       "    <tr>\n",
       "      <th>12</th>\n",
       "      <td>True</td>\n",
       "    </tr>\n",
       "    <tr>\n",
       "      <th>13</th>\n",
       "      <td>True</td>\n",
       "    </tr>\n",
       "    <tr>\n",
       "      <th>14</th>\n",
       "      <td>True</td>\n",
       "    </tr>\n",
       "    <tr>\n",
       "      <th>15</th>\n",
       "      <td>True</td>\n",
       "    </tr>\n",
       "    <tr>\n",
       "      <th>16</th>\n",
       "      <td>True</td>\n",
       "    </tr>\n",
       "    <tr>\n",
       "      <th>17</th>\n",
       "      <td>True</td>\n",
       "    </tr>\n",
       "    <tr>\n",
       "      <th>18</th>\n",
       "      <td>True</td>\n",
       "    </tr>\n",
       "    <tr>\n",
       "      <th>19</th>\n",
       "      <td>True</td>\n",
       "    </tr>\n",
       "    <tr>\n",
       "      <th>20</th>\n",
       "      <td>True</td>\n",
       "    </tr>\n",
       "    <tr>\n",
       "      <th>21</th>\n",
       "      <td>True</td>\n",
       "    </tr>\n",
       "    <tr>\n",
       "      <th>22</th>\n",
       "      <td>True</td>\n",
       "    </tr>\n",
       "    <tr>\n",
       "      <th>23</th>\n",
       "      <td>True</td>\n",
       "    </tr>\n",
       "    <tr>\n",
       "      <th>24</th>\n",
       "      <td>True</td>\n",
       "    </tr>\n",
       "    <tr>\n",
       "      <th>25</th>\n",
       "      <td>True</td>\n",
       "    </tr>\n",
       "    <tr>\n",
       "      <th>26</th>\n",
       "      <td>True</td>\n",
       "    </tr>\n",
       "    <tr>\n",
       "      <th>27</th>\n",
       "      <td>True</td>\n",
       "    </tr>\n",
       "    <tr>\n",
       "      <th>28</th>\n",
       "      <td>True</td>\n",
       "    </tr>\n",
       "    <tr>\n",
       "      <th>29</th>\n",
       "      <td>True</td>\n",
       "    </tr>\n",
       "    <tr>\n",
       "      <th>...</th>\n",
       "      <td>...</td>\n",
       "    </tr>\n",
       "    <tr>\n",
       "      <th>66440</th>\n",
       "      <td>True</td>\n",
       "    </tr>\n",
       "    <tr>\n",
       "      <th>66441</th>\n",
       "      <td>True</td>\n",
       "    </tr>\n",
       "    <tr>\n",
       "      <th>66442</th>\n",
       "      <td>True</td>\n",
       "    </tr>\n",
       "    <tr>\n",
       "      <th>66443</th>\n",
       "      <td>True</td>\n",
       "    </tr>\n",
       "    <tr>\n",
       "      <th>66444</th>\n",
       "      <td>True</td>\n",
       "    </tr>\n",
       "    <tr>\n",
       "      <th>66445</th>\n",
       "      <td>True</td>\n",
       "    </tr>\n",
       "    <tr>\n",
       "      <th>66446</th>\n",
       "      <td>True</td>\n",
       "    </tr>\n",
       "    <tr>\n",
       "      <th>66447</th>\n",
       "      <td>True</td>\n",
       "    </tr>\n",
       "    <tr>\n",
       "      <th>66448</th>\n",
       "      <td>True</td>\n",
       "    </tr>\n",
       "    <tr>\n",
       "      <th>66449</th>\n",
       "      <td>True</td>\n",
       "    </tr>\n",
       "    <tr>\n",
       "      <th>66450</th>\n",
       "      <td>True</td>\n",
       "    </tr>\n",
       "    <tr>\n",
       "      <th>66451</th>\n",
       "      <td>True</td>\n",
       "    </tr>\n",
       "    <tr>\n",
       "      <th>66452</th>\n",
       "      <td>True</td>\n",
       "    </tr>\n",
       "    <tr>\n",
       "      <th>66453</th>\n",
       "      <td>True</td>\n",
       "    </tr>\n",
       "    <tr>\n",
       "      <th>66454</th>\n",
       "      <td>True</td>\n",
       "    </tr>\n",
       "    <tr>\n",
       "      <th>66455</th>\n",
       "      <td>True</td>\n",
       "    </tr>\n",
       "    <tr>\n",
       "      <th>66456</th>\n",
       "      <td>True</td>\n",
       "    </tr>\n",
       "    <tr>\n",
       "      <th>66457</th>\n",
       "      <td>True</td>\n",
       "    </tr>\n",
       "    <tr>\n",
       "      <th>66458</th>\n",
       "      <td>True</td>\n",
       "    </tr>\n",
       "    <tr>\n",
       "      <th>66459</th>\n",
       "      <td>True</td>\n",
       "    </tr>\n",
       "    <tr>\n",
       "      <th>66460</th>\n",
       "      <td>True</td>\n",
       "    </tr>\n",
       "    <tr>\n",
       "      <th>66461</th>\n",
       "      <td>True</td>\n",
       "    </tr>\n",
       "    <tr>\n",
       "      <th>66462</th>\n",
       "      <td>True</td>\n",
       "    </tr>\n",
       "    <tr>\n",
       "      <th>66463</th>\n",
       "      <td>True</td>\n",
       "    </tr>\n",
       "    <tr>\n",
       "      <th>66464</th>\n",
       "      <td>True</td>\n",
       "    </tr>\n",
       "    <tr>\n",
       "      <th>66465</th>\n",
       "      <td>True</td>\n",
       "    </tr>\n",
       "    <tr>\n",
       "      <th>66466</th>\n",
       "      <td>True</td>\n",
       "    </tr>\n",
       "    <tr>\n",
       "      <th>66467</th>\n",
       "      <td>True</td>\n",
       "    </tr>\n",
       "    <tr>\n",
       "      <th>66468</th>\n",
       "      <td>True</td>\n",
       "    </tr>\n",
       "    <tr>\n",
       "      <th>66469</th>\n",
       "      <td>True</td>\n",
       "    </tr>\n",
       "  </tbody>\n",
       "</table>\n",
       "<p>66470 rows × 1 columns</p>\n",
       "</div>"
      ],
      "text/plain": [
       "       salario\n",
       "0         True\n",
       "1         True\n",
       "2         True\n",
       "3         True\n",
       "4         True\n",
       "5         True\n",
       "6         True\n",
       "7         True\n",
       "8         True\n",
       "9         True\n",
       "10        True\n",
       "11        True\n",
       "12        True\n",
       "13        True\n",
       "14        True\n",
       "15        True\n",
       "16        True\n",
       "17        True\n",
       "18        True\n",
       "19        True\n",
       "20        True\n",
       "21        True\n",
       "22        True\n",
       "23        True\n",
       "24        True\n",
       "25        True\n",
       "26        True\n",
       "27        True\n",
       "28        True\n",
       "29        True\n",
       "...        ...\n",
       "66440     True\n",
       "66441     True\n",
       "66442     True\n",
       "66443     True\n",
       "66444     True\n",
       "66445     True\n",
       "66446     True\n",
       "66447     True\n",
       "66448     True\n",
       "66449     True\n",
       "66450     True\n",
       "66451     True\n",
       "66452     True\n",
       "66453     True\n",
       "66454     True\n",
       "66455     True\n",
       "66456     True\n",
       "66457     True\n",
       "66458     True\n",
       "66459     True\n",
       "66460     True\n",
       "66461     True\n",
       "66462     True\n",
       "66463     True\n",
       "66464     True\n",
       "66465     True\n",
       "66466     True\n",
       "66467     True\n",
       "66468     True\n",
       "66469     True\n",
       "\n",
       "[66470 rows x 1 columns]"
      ]
     },
     "execution_count": 90,
     "metadata": {},
     "output_type": "execute_result"
    }
   ],
   "source": [
    "pd.DataFrame(mascara_valores_extremos)"
   ]
  },
  {
   "cell_type": "markdown",
   "metadata": {},
   "source": [
    "## Explorando a variável 'idade'\n",
    "\n",
    "A idade é uma variável quantitativa discreta que não apresenta valores faltantes (*missing values*). Vamos explorar os valores e a distribuição dos dados."
   ]
  },
  {
   "cell_type": "code",
   "execution_count": 91,
   "metadata": {},
   "outputs": [
    {
     "data": {
      "text/plain": [
       "20    2104\n",
       "28    2056\n",
       "26    2040\n",
       "22    2034\n",
       "27    2017\n",
       "23    2014\n",
       "25    2014\n",
       "Name: idade, dtype: int64"
      ]
     },
     "execution_count": 91,
     "metadata": {},
     "output_type": "execute_result"
    }
   ],
   "source": [
    "df.idade.value_counts(dropna=False).nlargest(7)"
   ]
  },
  {
   "cell_type": "code",
   "execution_count": 92,
   "metadata": {},
   "outputs": [
    {
     "data": {
      "text/plain": [
       "<matplotlib.axes._subplots.AxesSubplot at 0x17d435e57f0>"
      ]
     },
     "execution_count": 92,
     "metadata": {},
     "output_type": "execute_result"
    },
    {
     "data": {
      "image/png": "[encoded data removed]",
      "text/plain": [
       "<Figure size 432x288 with 1 Axes>"
      ]
     },
     "metadata": {
      "needs_background": "light"
     },
     "output_type": "display_data"
    }
   ],
   "source": [
    "df.idade.plot.hist(bins=20)"
   ]
  },
  {
   "cell_type": "code",
   "execution_count": 93,
   "metadata": {},
   "outputs": [
    {
     "data": {
      "text/plain": [
       "<matplotlib.axes._subplots.AxesSubplot at 0x17d436697f0>"
      ]
     },
     "execution_count": 93,
     "metadata": {},
     "output_type": "execute_result"
    },
    {
     "data": {
      "image/png": "[encoded data removed]",
      "text/plain": [
       "<Figure size 432x288 with 1 Axes>"
      ]
     },
     "metadata": {
      "needs_background": "light"
     },
     "output_type": "display_data"
    }
   ],
   "source": [
    "# Verificando o perfil da distribuição por um gráfico KDE (Kernel Density Estimate)\n",
    "\n",
    "df['idade'].sample(1000).plot.kde()"
   ]
  },
  {
   "cell_type": "markdown",
   "metadata": {},
   "source": [
    "## Explorando a variável 'anos_estudo'\n",
    "\n",
    "Também trata-se de uma variável quantitativa discreta, com valores faltantes (*missing values*) ou NaNs estatísticamente insignificante (434 em 66470 -> 0.65%)"
   ]
  },
  {
   "cell_type": "code",
   "execution_count": 94,
   "metadata": {},
   "outputs": [
    {
     "data": {
      "text/plain": [
       "5.0     23349\n",
       "11.0    16790\n",
       "15.0     5636\n",
       "8.0      5017\n",
       "10.0     2704\n",
       "7.0      2612\n",
       "12.0     2610\n",
       "9.0      2474\n",
       "6.0      2237\n",
       "13.0     1348\n",
       "14.0     1259\n",
       "NaN       434\n",
       "Name: anos_estudo, dtype: int64"
      ]
     },
     "execution_count": 94,
     "metadata": {},
     "output_type": "execute_result"
    }
   ],
   "source": [
    "df.anos_estudo.value_counts(dropna=False)"
   ]
  },
  {
   "cell_type": "code",
   "execution_count": 95,
   "metadata": {},
   "outputs": [
    {
     "data": {
      "text/plain": [
       "434"
      ]
     },
     "execution_count": 95,
     "metadata": {},
     "output_type": "execute_result"
    }
   ],
   "source": [
    "df.anos_estudo.isnull().sum()"
   ]
  },
  {
   "cell_type": "code",
   "execution_count": 96,
   "metadata": {},
   "outputs": [
    {
     "data": {
      "text/plain": [
       "66470"
      ]
     },
     "execution_count": 96,
     "metadata": {},
     "output_type": "execute_result"
    }
   ],
   "source": [
    "len(df.anos_estudo)"
   ]
  },
  {
   "cell_type": "code",
   "execution_count": 97,
   "metadata": {},
   "outputs": [
    {
     "data": {
      "text/plain": [
       "0.6529261320896645"
      ]
     },
     "execution_count": 97,
     "metadata": {},
     "output_type": "execute_result"
    }
   ],
   "source": [
    "perc_null = (df.anos_estudo.isnull().sum()/len(df.anos_estudo)) *100\n",
    "perc_null"
   ]
  },
  {
   "cell_type": "code",
   "execution_count": 98,
   "metadata": {},
   "outputs": [
    {
     "data": {
      "text/plain": [
       "5.0     23349\n",
       "11.0    16790\n",
       "15.0     5636\n",
       "8.0      5017\n",
       "10.0     2704\n",
       "7.0      2612\n",
       "12.0     2610\n",
       "9.0      2474\n",
       "6.0      2237\n",
       "13.0     1348\n",
       "14.0     1259\n",
       "Name: anos_estudo, dtype: int64"
      ]
     },
     "execution_count": 98,
     "metadata": {},
     "output_type": "execute_result"
    }
   ],
   "source": [
    "df.anos_estudo.dropna(0,inplace=True)\n",
    "\n",
    "df.anos_estudo.value_counts(dropna=True)"
   ]
  },
  {
   "cell_type": "code",
   "execution_count": 99,
   "metadata": {},
   "outputs": [
    {
     "name": "stdout",
     "output_type": "stream",
     "text": [
      "<class 'pandas.core.frame.DataFrame'>\n",
      "RangeIndex: 66470 entries, 0 to 66469\n",
      "Data columns (total 9 columns):\n",
      "seq             66470 non-null int64\n",
      "id              66470 non-null float64\n",
      "idade           66470 non-null int64\n",
      "sexo            66470 non-null object\n",
      "anos_estudo     66036 non-null float64\n",
      "cor/raca        66228 non-null object\n",
      "salario         66470 non-null float64\n",
      "estado_civil    66470 non-null float64\n",
      "regiao          66470 non-null object\n",
      "dtypes: float64(4), int64(2), object(3)\n",
      "memory usage: 4.6+ MB\n"
     ]
    }
   ],
   "source": [
    "df.info()"
   ]
  },
  {
   "cell_type": "code",
   "execution_count": 100,
   "metadata": {},
   "outputs": [
    {
     "data": {
      "text/plain": [
       "<matplotlib.axes._subplots.AxesSubplot at 0x17d436ea400>"
      ]
     },
     "execution_count": 100,
     "metadata": {},
     "output_type": "execute_result"
    },
    {
     "data": {
      "image/png": "[encoded data removed]",
      "text/plain": [
       "<Figure size 432x288 with 1 Axes>"
      ]
     },
     "metadata": {
      "needs_background": "light"
     },
     "output_type": "display_data"
    }
   ],
   "source": [
    "df.anos_estudo.plot.hist(bins=50)"
   ]
  },
  {
   "cell_type": "markdown",
   "metadata": {},
   "source": [
    "## Explorando da variável região\n",
    "\n",
    "A variável da região pode ser classificada como qualitativa nominal com 5 categorias. Observamos que a opção do **nosdeste** está muito reduzida, o que indica possivelmente a presença de um viés.\n",
    "\n",
    "### Viés\n",
    "\n",
    "*fonte: Wikipedia*\n",
    "\n",
    "**Viés** ou tendência é um peso desproporcional a favor ou contra uma coisa, pessoa ou grupo comparado a outro, geralmente de uma maneira considerada injusta."
   ]
  },
  {
   "cell_type": "code",
   "execution_count": 101,
   "metadata": {},
   "outputs": [
    {
     "data": {
      "text/plain": [
       "sudeste         25220\n",
       "centro-oeste    14702\n",
       "norte           14653\n",
       "sul             11890\n",
       "nordeste            5\n",
       "Name: regiao, dtype: int64"
      ]
     },
     "execution_count": 101,
     "metadata": {},
     "output_type": "execute_result"
    }
   ],
   "source": [
    "df.regiao.value_counts(dropna=False)"
   ]
  },
  {
   "cell_type": "code",
   "execution_count": 102,
   "metadata": {},
   "outputs": [
    {
     "data": {
      "text/plain": [
       "<matplotlib.axes._subplots.AxesSubplot at 0x17d4375e2e8>"
      ]
     },
     "execution_count": 102,
     "metadata": {},
     "output_type": "execute_result"
    },
    {
     "data": {
      "image/png": "[encoded data removed]",
      "text/plain": [
       "<Figure size 432x288 with 1 Axes>"
      ]
     },
     "metadata": {
      "needs_background": "light"
     },
     "output_type": "display_data"
    }
   ],
   "source": [
    "df.regiao.value_counts().plot(kind='bar')"
   ]
  },
  {
   "cell_type": "markdown",
   "metadata": {},
   "source": [
    "## Explorando a variável cor/raca\n",
    "\n",
    "Também trata-se de uma variável qualitativa nominal com 5 categorias, com número de valores faltantes ou *missing values* insignificante. Como boas práticas, vamos eliminar o caracter de barra ( / ) do título para evitar erros de processamento computacional."
   ]
  },
  {
   "cell_type": "code",
   "execution_count": 103,
   "metadata": {},
   "outputs": [],
   "source": [
    "df.rename(columns={'cor/raca':'cor_raca'},inplace=True)"
   ]
  },
  {
   "cell_type": "code",
   "execution_count": 104,
   "metadata": {},
   "outputs": [
    {
     "data": {
      "text/plain": [
       "Index(['seq', 'id', 'idade', 'sexo', 'anos_estudo', 'cor_raca', 'salario',\n",
       "       'estado_civil', 'regiao'],\n",
       "      dtype='object')"
      ]
     },
     "execution_count": 104,
     "metadata": {},
     "output_type": "execute_result"
    }
   ],
   "source": [
    "df.columns"
   ]
  },
  {
   "cell_type": "code",
   "execution_count": 105,
   "metadata": {},
   "outputs": [
    {
     "data": {
      "text/plain": [
       "Branca      31689\n",
       "Parda       28370\n",
       "Preta        5249\n",
       "Indigena      597\n",
       "Amarela       323\n",
       "NaN           242\n",
       "Name: cor_raca, dtype: int64"
      ]
     },
     "execution_count": 105,
     "metadata": {},
     "output_type": "execute_result"
    }
   ],
   "source": [
    "df.cor_raca.value_counts(dropna=False)"
   ]
  },
  {
   "cell_type": "code",
   "execution_count": 106,
   "metadata": {},
   "outputs": [
    {
     "data": {
      "text/plain": [
       "Branca      31689\n",
       "Parda       28370\n",
       "Preta        5249\n",
       "Indigena      597\n",
       "Amarela       323\n",
       "Name: cor_raca, dtype: int64"
      ]
     },
     "execution_count": 106,
     "metadata": {},
     "output_type": "execute_result"
    }
   ],
   "source": [
    "df.cor_raca.dropna(0,inplace=True)\n",
    "\n",
    "df.cor_raca.value_counts(dropna=False)"
   ]
  },
  {
   "cell_type": "code",
   "execution_count": 107,
   "metadata": {},
   "outputs": [
    {
     "data": {
      "text/plain": [
       "<matplotlib.axes._subplots.AxesSubplot at 0x17d43811c88>"
      ]
     },
     "execution_count": 107,
     "metadata": {},
     "output_type": "execute_result"
    },
    {
     "data": {
      "image/png": "[encoded data removed]",
      "text/plain": [
       "<Figure size 432x288 with 1 Axes>"
      ]
     },
     "metadata": {
      "needs_background": "light"
     },
     "output_type": "display_data"
    }
   ],
   "source": [
    "df.cor_raca.value_counts().plot(kind='bar')"
   ]
  },
  {
   "cell_type": "code",
   "execution_count": 108,
   "metadata": {},
   "outputs": [
    {
     "data": {
      "text/plain": [
       "cor_raca\n",
       "Amarela     21812.578448\n",
       "Branca      16430.640964\n",
       "Indigena    12010.787049\n",
       "Parda       12717.899303\n",
       "Preta       12421.852015\n",
       "Name: salario, dtype: float64"
      ]
     },
     "execution_count": 108,
     "metadata": {},
     "output_type": "execute_result"
    }
   ],
   "source": [
    "# somente demonstração do .groupby\n",
    "\n",
    "df.groupby(['cor_raca'])['salario'].mean()"
   ]
  },
  {
   "cell_type": "code",
   "execution_count": 109,
   "metadata": {},
   "outputs": [
    {
     "data": {
      "text/plain": [
       "regiao\n",
       "centro-oeste    15494.765622\n",
       "nordeste        27651.196207\n",
       "norte           12886.816661\n",
       "sudeste         14850.539116\n",
       "sul             14541.887739\n",
       "Name: salario, dtype: float64"
      ]
     },
     "execution_count": 109,
     "metadata": {},
     "output_type": "execute_result"
    }
   ],
   "source": [
    "df.groupby(['regiao'])['salario'].mean()"
   ]
  },
  {
   "cell_type": "markdown",
   "metadata": {},
   "source": [
    "## Explorando a variável 'estado_civil'\n",
    "\n",
    "Trata-se de uma variável binária (duas categorias), sem *missing values*. O fato mais curioso é que não está explicito qual a representação dos valores encontrados, ou seja, quais opções correspondem aos números 0.0 e 1.0. Geralmente os bancos de dados tem um dicionário ou memorial descritivo com informações complementares, como por exemplo quais valores equivalem a solteiros e casados, ou alguma outra opção."
   ]
  },
  {
   "cell_type": "code",
   "execution_count": 110,
   "metadata": {},
   "outputs": [
    {
     "data": {
      "text/plain": [
       "1.0    39066\n",
       "0.0    27404\n",
       "Name: estado_civil, dtype: int64"
      ]
     },
     "execution_count": 110,
     "metadata": {},
     "output_type": "execute_result"
    }
   ],
   "source": [
    "df['estado_civil'].value_counts(dropna=False)"
   ]
  },
  {
   "cell_type": "code",
   "execution_count": 111,
   "metadata": {},
   "outputs": [
    {
     "data": {
      "text/plain": [
       "<matplotlib.axes._subplots.AxesSubplot at 0x17d43bba8d0>"
      ]
     },
     "execution_count": 111,
     "metadata": {},
     "output_type": "execute_result"
    },
    {
     "data": {
      "image/png": "[encoded data removed]",
      "text/plain": [
       "<Figure size 432x288 with 1 Axes>"
      ]
     },
     "metadata": {
      "needs_background": "light"
     },
     "output_type": "display_data"
    }
   ],
   "source": [
    "df.estado_civil.value_counts().plot(kind='bar')"
   ]
  },
  {
   "cell_type": "markdown",
   "metadata": {},
   "source": [
    "## Explorando a variável 'sexo'\n",
    "\n",
    "Também trata-se de uma variável binária (duas categorias), e sem *mising values*. Além disso, também apresenta um fato curioso de 72 observações dentro de uma terceira categoria denominada 'gestante'. Trataremos destes valores com a substituição por 'mulher'."
   ]
  },
  {
   "cell_type": "code",
   "execution_count": 112,
   "metadata": {},
   "outputs": [
    {
     "data": {
      "text/plain": [
       "mulher      33607\n",
       "homem       32791\n",
       "gestante       72\n",
       "Name: sexo, dtype: int64"
      ]
     },
     "execution_count": 112,
     "metadata": {},
     "output_type": "execute_result"
    }
   ],
   "source": [
    "df['sexo'].value_counts(dropna=False)"
   ]
  },
  {
   "cell_type": "code",
   "execution_count": 113,
   "metadata": {},
   "outputs": [],
   "source": [
    "df = df.replace('gestante', 'mulher')"
   ]
  },
  {
   "cell_type": "code",
   "execution_count": 114,
   "metadata": {},
   "outputs": [
    {
     "data": {
      "text/plain": [
       "<matplotlib.axes._subplots.AxesSubplot at 0x17d43c186a0>"
      ]
     },
     "execution_count": 114,
     "metadata": {},
     "output_type": "execute_result"
    },
    {
     "data": {
      "image/png": "[encoded data removed]",
      "text/plain": [
       "<Figure size 432x288 with 1 Axes>"
      ]
     },
     "metadata": {
      "needs_background": "light"
     },
     "output_type": "display_data"
    }
   ],
   "source": [
    "df.sexo.value_counts().plot(kind='bar')"
   ]
  },
  {
   "cell_type": "markdown",
   "metadata": {},
   "source": [
    "# Desafio: os homens ganham mais do que as mulheres?\n",
    "\n",
    "\n",
    "\n",
    "O objetivo deste desafio é trabalhar com os conceitos de **Medidas de Centralidade** (média, moda, mediana), e a partir dos resultados, fazer uma análise do comportamento da variável salário.\n",
    "\n",
    "Como na nossa modelagem fizemos muitas alterações nos dados, vamos começar do zero lendo novamente o arquivo original"
   ]
  },
  {
   "cell_type": "code",
   "execution_count": 115,
   "metadata": {},
   "outputs": [
    {
     "name": "stdout",
     "output_type": "stream",
     "text": [
      "<class 'pandas.core.frame.DataFrame'>\n",
      "RangeIndex: 66470 entries, 0 to 66469\n",
      "Data columns (total 9 columns):\n",
      "seq             66470 non-null int64\n",
      "id              66470 non-null float64\n",
      "idade           66470 non-null int64\n",
      "sexo            66470 non-null object\n",
      "anos_estudo     66036 non-null float64\n",
      "cor_raca        66228 non-null object\n",
      "salario         66470 non-null float64\n",
      "estado_civil    66470 non-null float64\n",
      "regiao          66470 non-null object\n",
      "dtypes: float64(4), int64(2), object(3)\n",
      "memory usage: 4.6+ MB\n"
     ]
    }
   ],
   "source": [
    "df.info()"
   ]
  },
  {
   "cell_type": "code",
   "execution_count": 116,
   "metadata": {},
   "outputs": [
    {
     "data": {
      "text/plain": [
       "mulher    33679\n",
       "homem     32791\n",
       "Name: sexo, dtype: int64"
      ]
     },
     "execution_count": 116,
     "metadata": {},
     "output_type": "execute_result"
    }
   ],
   "source": [
    "df['sexo'].value_counts(dropna=False)"
   ]
  },
  {
   "cell_type": "code",
   "execution_count": 117,
   "metadata": {},
   "outputs": [],
   "source": [
    "df = df.replace('gestante', 'mulher')"
   ]
  },
  {
   "cell_type": "code",
   "execution_count": 118,
   "metadata": {},
   "outputs": [
    {
     "data": {
      "text/plain": [
       "mulher    33679\n",
       "homem     32791\n",
       "Name: sexo, dtype: int64"
      ]
     },
     "execution_count": 118,
     "metadata": {},
     "output_type": "execute_result"
    }
   ],
   "source": [
    "df['sexo'].value_counts(dropna=False)"
   ]
  },
  {
   "cell_type": "markdown",
   "metadata": {},
   "source": [
    "## Separando os dados em dois DataFrames distintos (homem e mulher)"
   ]
  },
  {
   "cell_type": "code",
   "execution_count": 119,
   "metadata": {},
   "outputs": [],
   "source": [
    "df_homem = df[df['sexo'] == 'homem']\n",
    "df_mulher = df[df['sexo'] == 'mulher']"
   ]
  },
  {
   "cell_type": "markdown",
   "metadata": {},
   "source": [
    "## Testando as hipóteses de salário maior para os homens para média, mediana e moda"
   ]
  },
  {
   "cell_type": "code",
   "execution_count": 120,
   "metadata": {},
   "outputs": [
    {
     "data": {
      "text/plain": [
       "15423.061802717515"
      ]
     },
     "execution_count": 120,
     "metadata": {},
     "output_type": "execute_result"
    }
   ],
   "source": [
    "df_homem['salario'].mean()"
   ]
  },
  {
   "cell_type": "code",
   "execution_count": 121,
   "metadata": {},
   "outputs": [],
   "source": [
    "media_salario_homem = df_homem['salario'].mean()\n",
    "mediana_salario_homem = df_homem['salario'].median()\n",
    "moda_salario_homem = df_homem['salario'].idxmax()\n",
    "\n",
    "media_salario_mulher = df_mulher['salario'].mean()\n",
    "mediana_salario_mulher = df_mulher['salario'].median()\n",
    "moda_salario_mulher = df_mulher['salario'].idxmax()"
   ]
  },
  {
   "cell_type": "code",
   "execution_count": 122,
   "metadata": {},
   "outputs": [
    {
     "data": {
      "text/plain": [
       "True"
      ]
     },
     "execution_count": 122,
     "metadata": {},
     "output_type": "execute_result"
    }
   ],
   "source": [
    "media_salario_homem > media_salario_mulher"
   ]
  },
  {
   "cell_type": "code",
   "execution_count": 123,
   "metadata": {},
   "outputs": [
    {
     "data": {
      "text/plain": [
       "False"
      ]
     },
     "execution_count": 123,
     "metadata": {},
     "output_type": "execute_result"
    }
   ],
   "source": [
    "mediana_salario_homem > mediana_salario_mulher"
   ]
  },
  {
   "cell_type": "code",
   "execution_count": 124,
   "metadata": {},
   "outputs": [
    {
     "data": {
      "text/plain": [
       "False"
      ]
     },
     "execution_count": 124,
     "metadata": {},
     "output_type": "execute_result"
    }
   ],
   "source": [
    "moda_salario_homem > moda_salario_mulher"
   ]
  },
  {
   "cell_type": "code",
   "execution_count": 125,
   "metadata": {},
   "outputs": [
    {
     "name": "stdout",
     "output_type": "stream",
     "text": [
      "Salário médio homens = 15423.06 Salário médio mulheres = 13612.90\n",
      "Salário mediano homens = 10494.00 Salário mediano mulheres = 14505.89\n",
      "Salário mais frequente homens = 48679.00 Salário mais frequente mulheres = 56470.00\n"
     ]
    }
   ],
   "source": [
    "print('Salário médio homens =',\"%.2f\"% media_salario_homem,'Salário médio mulheres =',\"%.2f\"% media_salario_mulher)\n",
    "print('Salário mediano homens =',\"%.2f\"% mediana_salario_homem,'Salário mediano mulheres =',\"%.2f\"% mediana_salario_mulher)\n",
    "print('Salário mais frequente homens =',\"%.2f\"% moda_salario_homem,'Salário mais frequente mulheres =',\"%.2f\"% moda_salario_mulher)"
   ]
  },
  {
   "cell_type": "markdown",
   "metadata": {},
   "source": [
    "## Plotando um histograma"
   ]
  },
  {
   "cell_type": "code",
   "execution_count": 126,
   "metadata": {},
   "outputs": [
    {
     "name": "stderr",
     "output_type": "stream",
     "text": [
      "C:\\Users\\BeMore\\Anaconda3\\lib\\site-packages\\ipykernel_launcher.py:1: SettingWithCopyWarning: \n",
      "A value is trying to be set on a copy of a slice from a DataFrame\n",
      "\n",
      "See the caveats in the documentation: http://pandas.pydata.org/pandas-docs/stable/indexing.html#indexing-view-versus-copy\n",
      "  \"\"\"Entry point for launching an IPython kernel.\n",
      "C:\\Users\\BeMore\\Anaconda3\\lib\\site-packages\\ipykernel_launcher.py:2: SettingWithCopyWarning: \n",
      "A value is trying to be set on a copy of a slice from a DataFrame\n",
      "\n",
      "See the caveats in the documentation: http://pandas.pydata.org/pandas-docs/stable/indexing.html#indexing-view-versus-copy\n",
      "  \n"
     ]
    }
   ],
   "source": [
    "df_homem.dropna(inplace=True)\n",
    "df_mulher.dropna(inplace=True)\n",
    "import warnings\n",
    "warnings.filterwarnings(\"ignore\")"
   ]
  },
  {
   "cell_type": "code",
   "execution_count": 127,
   "metadata": {},
   "outputs": [
    {
     "data": {
      "image/png": "[encoded data removed]",
      "text/plain": [
       "<Figure size 432x288 with 1 Axes>"
      ]
     },
     "metadata": {
      "needs_background": "light"
     },
     "output_type": "display_data"
    }
   ],
   "source": [
    "from matplotlib import pyplot\n",
    "\n",
    "bins = 45\n",
    "\n",
    "ax = pyplot.hist(df_homem['salario'], bins, alpha=0.5, label='Salário Homens',color='blue', range=(0,100000))\n",
    "ax = pyplot.hist(df_mulher['salario'], bins, alpha=0.5, label='Salário Mulheres',color='red', range=(0,100000))\n",
    "\n",
    "pyplot.legend(loc='upper right')\n",
    "pyplot.show()"
   ]
  },
  {
   "cell_type": "code",
   "execution_count": 128,
   "metadata": {},
   "outputs": [
    {
     "data": {
      "image/png": "[encoded data removed]",
      "text/plain": [
       "<Figure size 432x288 with 1 Axes>"
      ]
     },
     "metadata": {
      "needs_background": "light"
     },
     "output_type": "display_data"
    }
   ],
   "source": [
    "import matplotlib.pyplot as plt\n",
    " \n",
    "sample = df.sample(2000)\n",
    "# Plot\n",
    "plt.scatter(y=sample.salario,x=sample.salario.index, alpha=0.5)\n",
    "plt.title('distribuição de salario')\n",
    "plt.xlabel('indice')\n",
    "plt.ylabel('salario')\n",
    "plt.show()"
   ]
  },
  {
   "cell_type": "code",
   "execution_count": 129,
   "metadata": {},
   "outputs": [],
   "source": [
    "df['salario'] = df['salario'][(df['salario']>0) & (df['salario']< 999999)]"
   ]
  },
  {
   "cell_type": "code",
   "execution_count": 130,
   "metadata": {},
   "outputs": [
    {
     "data": {
      "text/plain": [
       "19706.790323    18592\n",
       "14505.889370     1468\n",
       "5229.000000       277\n",
       "7200.000000       260\n",
       "7560.000000       244\n",
       "Name: salario, dtype: int64"
      ]
     },
     "execution_count": 130,
     "metadata": {},
     "output_type": "execute_result"
    }
   ],
   "source": [
    "df['salario'].value_counts().head()"
   ]
  },
  {
   "cell_type": "code",
   "execution_count": 131,
   "metadata": {},
   "outputs": [
    {
     "data": {
      "text/plain": [
       "<matplotlib.axes._subplots.AxesSubplot at 0x17d43a99ac8>"
      ]
     },
     "execution_count": 131,
     "metadata": {},
     "output_type": "execute_result"
    },
    {
     "data": {
      "image/png": "[encoded data removed]",
      "text/plain": [
       "<Figure size 432x288 with 1 Axes>"
      ]
     },
     "metadata": {
      "needs_background": "light"
     },
     "output_type": "display_data"
    }
   ],
   "source": [
    "df['log_salario'] = np.log1p(df['salario'])\n",
    "df['log_salario'].plot.hist(bins=50, xlim=(0, 20))"
   ]
  },
  {
   "cell_type": "code",
   "execution_count": 132,
   "metadata": {},
   "outputs": [
    {
     "data": {
      "text/plain": [
       "9.888769    18592\n",
       "NaN          1841\n",
       "9.582379     1468\n",
       "8.562167      277\n",
       "8.881975      260\n",
       "Name: log_salario, dtype: int64"
      ]
     },
     "execution_count": 132,
     "metadata": {},
     "output_type": "execute_result"
    }
   ],
   "source": [
    "df['log_salario'].value_counts(dropna=False).head()"
   ]
  },
  {
   "cell_type": "code",
   "execution_count": 133,
   "metadata": {},
   "outputs": [
    {
     "data": {
      "text/plain": [
       "<matplotlib.axes._subplots.AxesSubplot at 0x17d43cd6d30>"
      ]
     },
     "execution_count": 133,
     "metadata": {},
     "output_type": "execute_result"
    },
    {
     "data": {
      "image/png": "[encoded data removed]",
      "text/plain": [
       "<Figure size 432x288 with 1 Axes>"
      ]
     },
     "metadata": {
      "needs_background": "light"
     },
     "output_type": "display_data"
    }
   ],
   "source": [
    "df['log_salario'] = np.log1p(df['salario'])\n",
    "df['log_salario'].plot.hist(bins=50, xlim=(0, 20))"
   ]
  },
  {
   "cell_type": "markdown",
   "metadata": {},
   "source": [
    "## Direcionamento da problemática inicial através dos resultados das análises"
   ]
  },
  {
   "cell_type": "code",
   "execution_count": 134,
   "metadata": {},
   "outputs": [
    {
     "ename": "ModuleNotFoundError",
     "evalue": "No module named '_plotly_future_'",
     "output_type": "error",
     "traceback": [
      "\u001b[1;31m---------------------------------------------------------------------------\u001b[0m",
      "\u001b[1;31mModuleNotFoundError\u001b[0m                       Traceback (most recent call last)",
      "\u001b[1;32m<ipython-input-134-6686589cd81c>\u001b[0m in \u001b[0;36m<module>\u001b[1;34m\u001b[0m\n\u001b[0;32m      2\u001b[0m \u001b[1;32mimport\u001b[0m \u001b[0mpandas\u001b[0m \u001b[1;32mas\u001b[0m \u001b[0mpd\u001b[0m\u001b[1;33m\u001b[0m\u001b[1;33m\u001b[0m\u001b[0m\n\u001b[0;32m      3\u001b[0m \u001b[1;33m\u001b[0m\u001b[0m\n\u001b[1;32m----> 4\u001b[1;33m \u001b[1;32mimport\u001b[0m \u001b[0mplotly\u001b[0m\u001b[1;33m.\u001b[0m\u001b[0mplotly\u001b[0m \u001b[1;32mas\u001b[0m \u001b[0mpy\u001b[0m\u001b[1;33m\u001b[0m\u001b[1;33m\u001b[0m\u001b[0m\n\u001b[0m\u001b[0;32m      5\u001b[0m \u001b[1;32mimport\u001b[0m \u001b[0mplotly\u001b[0m\u001b[1;33m.\u001b[0m\u001b[0mtools\u001b[0m \u001b[1;32mas\u001b[0m \u001b[0mtls\u001b[0m\u001b[1;33m\u001b[0m\u001b[1;33m\u001b[0m\u001b[0m\n",
      "\u001b[1;32m~\\Anaconda3\\lib\\site-packages\\plotly\\__init__.py\u001b[0m in \u001b[0;36m<module>\u001b[1;34m\u001b[0m\n\u001b[0;32m     28\u001b[0m \u001b[1;33m\u001b[0m\u001b[0m\n\u001b[0;32m     29\u001b[0m \u001b[1;32mfrom\u001b[0m \u001b[0m__future__\u001b[0m \u001b[1;32mimport\u001b[0m \u001b[0mabsolute_import\u001b[0m\u001b[1;33m\u001b[0m\u001b[1;33m\u001b[0m\u001b[0m\n\u001b[1;32m---> 30\u001b[1;33m \u001b[1;32mfrom\u001b[0m \u001b[0m_plotly_future_\u001b[0m \u001b[1;32mimport\u001b[0m \u001b[0m_future_flags\u001b[0m\u001b[1;33m\u001b[0m\u001b[1;33m\u001b[0m\u001b[0m\n\u001b[0m\u001b[0;32m     31\u001b[0m \u001b[1;33m\u001b[0m\u001b[0m\n\u001b[0;32m     32\u001b[0m from plotly import (\n",
      "\u001b[1;31mModuleNotFoundError\u001b[0m: No module named '_plotly_future_'"
     ]
    }
   ],
   "source": [
    "import numpy as np\n",
    "import pandas as pd\n",
    "\n",
    "import plotly.plotly as py\n",
    "import plotly.tools as tls"
   ]
  },
  {
   "cell_type": "code",
   "execution_count": null,
   "metadata": {},
   "outputs": [],
   "source": [
    "tls.set_credentials_file(username='bigdata1', api_key='hvginfgvwe')"
   ]
  },
  {
   "cell_type": "code",
   "execution_count": null,
   "metadata": {},
   "outputs": [],
   "source": [
    "regions = pd.read_csv(r'../../99 Datasets/demografia_1.csv')\n",
    "regions.columns = ['seq', 'id', 'idade', 'sexo', 'anos_estudo', 'cor/raca' , 'salario', 'estado_civil', 'regiao']\n",
    "regions.head()"
   ]
  },
  {
   "cell_type": "code",
   "execution_count": null,
   "metadata": {},
   "outputs": [],
   "source": [
    "# importando a biblioteca folium para análise no mapa\n",
    "import folium\n",
    "from IPython.display import display\n",
    "LDN_COORDINATES = (-23, -46)\n",
    "myMap = folium.Map(location=LDN_COORDINATES, zoom_start=4)\n",
    "display(myMap)"
   ]
  },
  {
   "cell_type": "code",
   "execution_count": null,
   "metadata": {},
   "outputs": [],
   "source": [
    "# importando a biblioteca folium para análise no mapa\n",
    "import folium\n",
    "from IPython.display import display\n",
    "LDN_COORDINATES = (-23, -46)\n",
    "myMap = folium.Map(location=LDN_COORDINATES, zoom_start=4)\n",
    "display(myMap)"
   ]
  },
  {
   "cell_type": "markdown",
   "metadata": {},
   "source": [
    "<br>\n",
    "<img src=\"img/sudeste.png\">\n",
    "<br>"
   ]
  },
  {
   "cell_type": "code",
   "execution_count": null,
   "metadata": {},
   "outputs": [],
   "source": [
    "df['regiao'].value_counts()"
   ]
  },
  {
   "cell_type": "markdown",
   "metadata": {},
   "source": [
    "## Direcionamento da problemática inicial através dos resultados das análises"
   ]
  },
  {
   "cell_type": "markdown",
   "metadata": {},
   "source": [
    "Através dos dados apresentados, a melhor estratégia é focar os esforços inicialmente na região sudeste em virtude do perfil feminino de compra, salário médio e densidade demográfica.\n",
    "\n",
    "A partir da captação de um volume expressivo de vendas, faremos uma nova análise para identificar oportunidades em outras regiões.\n",
    "\n",
    "\n",
    "\n"
   ]
  }
 ],
 "metadata": {
  "kernelspec": {
   "display_name": "Python 3",
   "language": "python",
   "name": "python3"
  },
  "language_info": {
   "codemirror_mode": {
    "name": "ipython",
    "version": 3
   },
   "file_extension": ".py",
   "mimetype": "text/x-python",
   "name": "python",
   "nbconvert_exporter": "python",
   "pygments_lexer": "ipython3",
   "version": "3.7.3"
  }
 },
 "nbformat": 4,
 "nbformat_minor": 2
}
